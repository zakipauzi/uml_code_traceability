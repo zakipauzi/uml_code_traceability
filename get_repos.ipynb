{
 "cells": [
  {
   "cell_type": "code",
   "execution_count": 1,
   "metadata": {},
   "outputs": [
    {
     "data": {
      "text/html": [
       "<div>\n",
       "<style scoped>\n",
       "    .dataframe tbody tr th:only-of-type {\n",
       "        vertical-align: middle;\n",
       "    }\n",
       "\n",
       "    .dataframe tbody tr th {\n",
       "        vertical-align: top;\n",
       "    }\n",
       "\n",
       "    .dataframe thead th {\n",
       "        text-align: right;\n",
       "    }\n",
       "</style>\n",
       "<table border=\"1\" class=\"dataframe\">\n",
       "  <thead>\n",
       "    <tr style=\"text-align: right;\">\n",
       "      <th></th>\n",
       "      <th>Project</th>\n",
       "      <th>Model Link - Github</th>\n",
       "    </tr>\n",
       "  </thead>\n",
       "  <tbody>\n",
       "    <tr>\n",
       "      <th>0</th>\n",
       "      <td>0-complexity/ovcdoc_public/</td>\n",
       "      <td>https://www.github.com/0-complexity/ovcdoc_pub...</td>\n",
       "    </tr>\n",
       "    <tr>\n",
       "      <th>1</th>\n",
       "      <td>0003088/libelektra-qt-gui-test/</td>\n",
       "      <td>https://www.github.com/0003088/libelektra-qt-g...</td>\n",
       "    </tr>\n",
       "    <tr>\n",
       "      <th>2</th>\n",
       "      <td>00s/deadman/</td>\n",
       "      <td>https://www.github.com/00s/deadman/tree/master...</td>\n",
       "    </tr>\n",
       "    <tr>\n",
       "      <th>3</th>\n",
       "      <td>01db0y/ImageUploader/</td>\n",
       "      <td>https://www.github.com/01db0y/ImageUploader/tr...</td>\n",
       "    </tr>\n",
       "    <tr>\n",
       "      <th>4</th>\n",
       "      <td>01db0y/ShareIt/</td>\n",
       "      <td>https://www.github.com/01db0y/ShareIt/tree/mas...</td>\n",
       "    </tr>\n",
       "    <tr>\n",
       "      <th>...</th>\n",
       "      <td>...</td>\n",
       "      <td>...</td>\n",
       "    </tr>\n",
       "    <tr>\n",
       "      <th>93602</th>\n",
       "      <td>yotomyoto/301_assignment1/</td>\n",
       "      <td>https://www.github.com/yotomyoto/301_assignmen...</td>\n",
       "    </tr>\n",
       "    <tr>\n",
       "      <th>93603</th>\n",
       "      <td>zeronero13/af6/</td>\n",
       "      <td>https://www.github.com/zeronero13/af6/tree/mas...</td>\n",
       "    </tr>\n",
       "    <tr>\n",
       "      <th>93604</th>\n",
       "      <td>zeronero13/happehardver/</td>\n",
       "      <td>https://www.github.com/zeronero13/happehardver...</td>\n",
       "    </tr>\n",
       "    <tr>\n",
       "      <th>93605</th>\n",
       "      <td>Akshit-/ClientServerCommunication/</td>\n",
       "      <td>https://www.github.com/Akshit-/ClientServerCom...</td>\n",
       "    </tr>\n",
       "    <tr>\n",
       "      <th>93606</th>\n",
       "      <td>Akshit-/ClientServerCommunication/</td>\n",
       "      <td>https://www.github.com/Akshit-/ClientServerCom...</td>\n",
       "    </tr>\n",
       "  </tbody>\n",
       "</table>\n",
       "<p>93607 rows × 2 columns</p>\n",
       "</div>"
      ],
      "text/plain": [
       "                                  Project  \\\n",
       "0             0-complexity/ovcdoc_public/   \n",
       "1         0003088/libelektra-qt-gui-test/   \n",
       "2                            00s/deadman/   \n",
       "3                   01db0y/ImageUploader/   \n",
       "4                         01db0y/ShareIt/   \n",
       "...                                   ...   \n",
       "93602          yotomyoto/301_assignment1/   \n",
       "93603                     zeronero13/af6/   \n",
       "93604            zeronero13/happehardver/   \n",
       "93605  Akshit-/ClientServerCommunication/   \n",
       "93606  Akshit-/ClientServerCommunication/   \n",
       "\n",
       "                                     Model Link - Github  \n",
       "0      https://www.github.com/0-complexity/ovcdoc_pub...  \n",
       "1      https://www.github.com/0003088/libelektra-qt-g...  \n",
       "2      https://www.github.com/00s/deadman/tree/master...  \n",
       "3      https://www.github.com/01db0y/ImageUploader/tr...  \n",
       "4      https://www.github.com/01db0y/ShareIt/tree/mas...  \n",
       "...                                                  ...  \n",
       "93602  https://www.github.com/yotomyoto/301_assignmen...  \n",
       "93603  https://www.github.com/zeronero13/af6/tree/mas...  \n",
       "93604  https://www.github.com/zeronero13/happehardver...  \n",
       "93605  https://www.github.com/Akshit-/ClientServerCom...  \n",
       "93606  https://www.github.com/Akshit-/ClientServerCom...  \n",
       "\n",
       "[93607 rows x 2 columns]"
      ]
     },
     "execution_count": 1,
     "metadata": {},
     "output_type": "execute_result"
    }
   ],
   "source": [
    "import pandas as pd\n",
    "\n",
    "full_repo_model_df = pd.read_csv('UMLFiles_List_V2.0.csv')\n",
    "full_repo_model_df"
   ]
  },
  {
   "cell_type": "code",
   "execution_count": 2,
   "metadata": {},
   "outputs": [
    {
     "data": {
      "text/html": [
       "<div>\n",
       "<style scoped>\n",
       "    .dataframe tbody tr th:only-of-type {\n",
       "        vertical-align: middle;\n",
       "    }\n",
       "\n",
       "    .dataframe tbody tr th {\n",
       "        vertical-align: top;\n",
       "    }\n",
       "\n",
       "    .dataframe thead th {\n",
       "        text-align: right;\n",
       "    }\n",
       "</style>\n",
       "<table border=\"1\" class=\"dataframe\">\n",
       "  <thead>\n",
       "    <tr style=\"text-align: right;\">\n",
       "      <th></th>\n",
       "      <th>Project</th>\n",
       "    </tr>\n",
       "  </thead>\n",
       "  <tbody>\n",
       "    <tr>\n",
       "      <th>0</th>\n",
       "      <td>0-complexity/ovcdoc_public/</td>\n",
       "    </tr>\n",
       "    <tr>\n",
       "      <th>1</th>\n",
       "      <td>0003088/libelektra-qt-gui-test/</td>\n",
       "    </tr>\n",
       "    <tr>\n",
       "      <th>2</th>\n",
       "      <td>00s/deadman/</td>\n",
       "    </tr>\n",
       "    <tr>\n",
       "      <th>3</th>\n",
       "      <td>01db0y/ImageUploader/</td>\n",
       "    </tr>\n",
       "    <tr>\n",
       "      <th>4</th>\n",
       "      <td>01db0y/ShareIt/</td>\n",
       "    </tr>\n",
       "    <tr>\n",
       "      <th>...</th>\n",
       "      <td>...</td>\n",
       "    </tr>\n",
       "    <tr>\n",
       "      <th>24725</th>\n",
       "      <td>vectorxiang/vectorxiang.github.io/</td>\n",
       "    </tr>\n",
       "    <tr>\n",
       "      <th>24726</th>\n",
       "      <td>victorsndvg/FPL/</td>\n",
       "    </tr>\n",
       "    <tr>\n",
       "      <th>24727</th>\n",
       "      <td>wmde/FundraisingFrontend/</td>\n",
       "    </tr>\n",
       "    <tr>\n",
       "      <th>24728</th>\n",
       "      <td>yotomyoto/301_assignment1/</td>\n",
       "    </tr>\n",
       "    <tr>\n",
       "      <th>24729</th>\n",
       "      <td>zeronero13/happehardver/</td>\n",
       "    </tr>\n",
       "  </tbody>\n",
       "</table>\n",
       "<p>24730 rows × 1 columns</p>\n",
       "</div>"
      ],
      "text/plain": [
       "                                  Project\n",
       "0             0-complexity/ovcdoc_public/\n",
       "1         0003088/libelektra-qt-gui-test/\n",
       "2                            00s/deadman/\n",
       "3                   01db0y/ImageUploader/\n",
       "4                         01db0y/ShareIt/\n",
       "...                                   ...\n",
       "24725  vectorxiang/vectorxiang.github.io/\n",
       "24726                    victorsndvg/FPL/\n",
       "24727           wmde/FundraisingFrontend/\n",
       "24728          yotomyoto/301_assignment1/\n",
       "24729            zeronero13/happehardver/\n",
       "\n",
       "[24730 rows x 1 columns]"
      ]
     },
     "execution_count": 2,
     "metadata": {},
     "output_type": "execute_result"
    }
   ],
   "source": [
    "full_repo_df = full_repo_model_df.drop(columns=['Model Link - Github']).drop_duplicates(ignore_index=True)\n",
    "full_repo_df"
   ]
  },
  {
   "cell_type": "code",
   "execution_count": 3,
   "metadata": {},
   "outputs": [],
   "source": [
    "import requests\n",
    "from dotenv import load_dotenv\n",
    "from tqdm import tqdm\n",
    "import os\n",
    "\n",
    "_ = load_dotenv()\n",
    "\n",
    "GH_USER = os.environ[\"GH_USERNAME\"]\n",
    "GH_TOKEN = os.environ[\"GH_TOKEN\"]"
   ]
  },
  {
   "cell_type": "code",
   "execution_count": 4,
   "metadata": {},
   "outputs": [],
   "source": [
    "def get_star_count(repo_name):\n",
    "    try:\n",
    "        r = requests.get('https://api.github.com/repos/{}'.format(repo_name), auth=(GH_USER, GH_TOKEN), timeout=60)\n",
    "    except requests.exceptions.RequestException as e:\n",
    "        if r.status_code != 404:\n",
    "            print('Error: {}'.format(e))\n",
    "        return None\n",
    "\n",
    "    return r.json().get('stargazers_count', 0)"
   ]
  },
  {
   "cell_type": "code",
   "execution_count": 5,
   "metadata": {},
   "outputs": [
    {
     "name": "stdout",
     "output_type": "stream",
     "text": [
      "No. of stars: 2\n"
     ]
    }
   ],
   "source": [
    "print(f\"No. of stars: {get_star_count('zakipauzi/concept-domain-coverage/'[:-1])}\")"
   ]
  },
  {
   "cell_type": "code",
   "execution_count": 6,
   "metadata": {},
   "outputs": [],
   "source": [
    "def repo_exists(repo_name):\n",
    "    try:\n",
    "        r = requests.get(f'https://api.github.com/repos/{repo_name}', auth=(GH_USER, GH_TOKEN), timeout=60)\n",
    "        return r.status_code == 200\n",
    "    except requests.exceptions.RequestException as e:\n",
    "        print(f'Error: {e}')\n",
    "        return False"
   ]
  },
  {
   "cell_type": "code",
   "execution_count": null,
   "metadata": {},
   "outputs": [],
   "source": [
    "from tqdm import tqdm\n",
    "from concurrent.futures import ThreadPoolExecutor\n",
    "\n",
    "tqdm.pandas()\n",
    "\n",
    "def add_repo_exist(df):\n",
    "    def fetch_exist(repo):\n",
    "        return repo_exists(repo[:-1])\n",
    "\n",
    "    with ThreadPoolExecutor(max_workers=50) as executor:\n",
    "        df['Exists'] = list(tqdm(executor.map(fetch_exist, df['Project']), total=len(df['Project'])))\n",
    "    return df"
   ]
  },
  {
   "cell_type": "code",
   "execution_count": null,
   "metadata": {},
   "outputs": [
    {
     "name": "stderr",
     "output_type": "stream",
     "text": [
      "  2%|▏         | 550/24730 [02:04<28:24:42,  4.23s/it]"
     ]
    },
    {
     "name": "stdout",
     "output_type": "stream",
     "text": [
      "Error: HTTPSConnectionPool(host='api.github.com', port=443): Max retries exceeded with url: /repos/aholic/cstdlib.com (Caused by SSLError(SSLEOFError(8, '[SSL: UNEXPECTED_EOF_WHILE_READING] EOF occurred in violation of protocol (_ssl.c:1006)')))\n",
      "Error: HTTPSConnectionPool(host='api.github.com', port=443): Max retries exceeded with url: /repos/ajchan11/takeMeThere (Caused by SSLError(SSLEOFError(8, '[SSL: UNEXPECTED_EOF_WHILE_READING] EOF occurred in violation of protocol (_ssl.c:1006)')))\n",
      "Error: HTTPSConnectionPool(host='api.github.com', port=443): Max retries exceeded with url: /repos/ajmeyers/FGCU-CodeLearner (Caused by SSLError(SSLEOFError(8, '[SSL: UNEXPECTED_EOF_WHILE_READING] EOF occurred in violation of protocol (_ssl.c:1006)')))\n",
      "Error: HTTPSConnectionPool(host='api.github.com', port=443): Max retries exceeded with url: /repos/ajukraine/ajukraine.github.io (Caused by SSLError(SSLEOFError(8, '[SSL: UNEXPECTED_EOF_WHILE_READING] EOF occurred in violation of protocol (_ssl.c:1006)')))\n"
     ]
    },
    {
     "name": "stderr",
     "output_type": "stream",
     "text": [
      "  2%|▏         | 553/24730 [02:08<20:50:11,  3.10s/it]"
     ]
    },
    {
     "name": "stdout",
     "output_type": "stream",
     "text": [
      "Error: HTTPSConnectionPool(host='api.github.com', port=443): Max retries exceeded with url: /repos/ahuitz/FinalPortalURL (Caused by SSLError(SSLEOFError(8, '[SSL: UNEXPECTED_EOF_WHILE_READING] EOF occurred in violation of protocol (_ssl.c:1006)')))\n"
     ]
    },
    {
     "name": "stderr",
     "output_type": "stream",
     "text": [
      "  2%|▏         | 554/24730 [02:09<18:49:16,  2.80s/it]"
     ]
    },
    {
     "name": "stdout",
     "output_type": "stream",
     "text": [
      "Error: HTTPSConnectionPool(host='api.github.com', port=443): Max retries exceeded with url: /repos/ajturner/segment (Caused by SSLError(SSLEOFError(8, '[SSL: UNEXPECTED_EOF_WHILE_READING] EOF occurred in violation of protocol (_ssl.c:1006)')))\n"
     ]
    },
    {
     "name": "stderr",
     "output_type": "stream",
     "text": [
      "  2%|▏         | 566/24730 [02:11<6:04:06,  1.11it/s] "
     ]
    },
    {
     "name": "stdout",
     "output_type": "stream",
     "text": [
      "Error: HTTPSConnectionPool(host='api.github.com', port=443): Max retries exceeded with url: /repos/Akalinsky/CAS208 (Caused by SSLError(SSLEOFError(8, '[SSL: UNEXPECTED_EOF_WHILE_READING] EOF occurred in violation of protocol (_ssl.c:1006)')))\n",
      "Error: HTTPSConnectionPool(host='api.github.com', port=443): Max retries exceeded with url: /repos/aina1205/nmtrypi-seek (Caused by SSLError(SSLEOFError(8, '[SSL: UNEXPECTED_EOF_WHILE_READING] EOF occurred in violation of protocol (_ssl.c:1006)')))\n",
      "Error: HTTPSConnectionPool(host='api.github.com', port=443): Max retries exceeded with url: /repos/Akomer/Thesis (Caused by SSLError(SSLEOFError(8, '[SSL: UNEXPECTED_EOF_WHILE_READING] EOF occurred in violation of protocol (_ssl.c:1006)')))\n",
      "Error: HTTPSConnectionPool(host='api.github.com', port=443): Max retries exceeded with url: /repos/AkoyaP6618/2dGame (Caused by SSLError(SSLEOFError(8, '[SSL: UNEXPECTED_EOF_WHILE_READING] EOF occurred in violation of protocol (_ssl.c:1006)')))\n",
      "Error: HTTPSConnectionPool(host='api.github.com', port=443): Max retries exceeded with url: /repos/AkiValiaho/Ohjelmointi2 (Caused by SSLError(SSLEOFError(8, '[SSL: UNEXPECTED_EOF_WHILE_READING] EOF occurred in violation of protocol (_ssl.c:1006)')))\n",
      "Error: HTTPSConnectionPool(host='api.github.com', port=443): Max retries exceeded with url: /repos/Akshit-/ClientServerCommunication (Caused by SSLError(SSLEOFError(8, '[SSL: UNEXPECTED_EOF_WHILE_READING] EOF occurred in violation of protocol (_ssl.c:1006)')))\n",
      "Error: HTTPSConnectionPool(host='api.github.com', port=443): Max retries exceeded with url: /repos/Akshit-/TodoMVC (Caused by SSLError(SSLEOFError(8, '[SSL: UNEXPECTED_EOF_WHILE_READING] EOF occurred in violation of protocol (_ssl.c:1006)')))\n",
      "Error: HTTPSConnectionPool(host='api.github.com', port=443): Max retries exceeded with url: /repos/ajmulhollan1/gameOfLife (Caused by SSLError(SSLEOFError(8, '[SSL: UNEXPECTED_EOF_WHILE_READING] EOF occurred in violation of protocol (_ssl.c:1006)')))\n",
      "Error: HTTPSConnectionPool(host='api.github.com', port=443): Max retries exceeded with url: /repos/akguptakgp/SoftwareEngineering (Caused by SSLError(SSLEOFError(8, '[SSL: UNEXPECTED_EOF_WHILE_READING] EOF occurred in violation of protocol (_ssl.c:1006)')))\n",
      "Error: HTTPSConnectionPool(host='api.github.com', port=443): Max retries exceeded with url: /repos/akullpp/BHMM (Caused by SSLError(SSLEOFError(8, '[SSL: UNEXPECTED_EOF_WHILE_READING] EOF occurred in violation of protocol (_ssl.c:1006)')))\n",
      "Error: HTTPSConnectionPool(host='api.github.com', port=443): Max retries exceeded with url: /repos/ajaniv/equitymaster (Caused by SSLError(SSLEOFError(8, '[SSL: UNEXPECTED_EOF_WHILE_READING] EOF occurred in violation of protocol (_ssl.c:1006)')))\n"
     ]
    },
    {
     "name": "stderr",
     "output_type": "stream",
     "text": [
      "  2%|▏         | 579/24730 [02:31<8:16:37,  1.23s/it]"
     ]
    },
    {
     "name": "stdout",
     "output_type": "stream",
     "text": [
      "Error: HTTPSConnectionPool(host='api.github.com', port=443): Max retries exceeded with url: /repos/aisam97/1441180059TugasPBO (Caused by SSLError(SSLEOFError(8, '[SSL: UNEXPECTED_EOF_WHILE_READING] EOF occurred in violation of protocol (_ssl.c:1006)')))\n",
      "Error: HTTPSConnectionPool(host='api.github.com', port=443): Max retries exceeded with url: /repos/akurutepe/MusicalChairGame (Caused by SSLError(SSLEOFError(8, '[SSL: UNEXPECTED_EOF_WHILE_READING] EOF occurred in violation of protocol (_ssl.c:1006)')))\n",
      "Error: HTTPSConnectionPool(host='api.github.com', port=443): Max retries exceeded with url: /repos/ajmulhollan1/game-of-life (Caused by SSLError(SSLEOFError(8, '[SSL: UNEXPECTED_EOF_WHILE_READING] EOF occurred in violation of protocol (_ssl.c:1006)')))\n",
      "Error: HTTPSConnectionPool(host='api.github.com', port=443): Max retries exceeded with url: /repos/akiratk0355/PuyoPuyo (Caused by SSLError(SSLEOFError(8, '[SSL: UNEXPECTED_EOF_WHILE_READING] EOF occurred in violation of protocol (_ssl.c:1006)')))\n",
      "Error: HTTPSConnectionPool(host='api.github.com', port=443): Max retries exceeded with url: /repos/AL-WUHC2/elasticsearch-analysis-ik-roc (Caused by SSLError(SSLEOFError(8, '[SSL: UNEXPECTED_EOF_WHILE_READING] EOF occurred in violation of protocol (_ssl.c:1006)')))\n",
      "Error: HTTPSConnectionPool(host='api.github.com', port=443): Max retries exceeded with url: /repos/aklaan/amikcal (Caused by SSLError(SSLEOFError(8, '[SSL: UNEXPECTED_EOF_WHILE_READING] EOF occurred in violation of protocol (_ssl.c:1006)')))\n",
      "Error: HTTPSConnectionPool(host='api.github.com', port=443): Max retries exceeded with url: /repos/Akkusativobjekt/Refactoring (Caused by SSLError(SSLEOFError(8, '[SSL: UNEXPECTED_EOF_WHILE_READING] EOF occurred in violation of protocol (_ssl.c:1006)')))\n",
      "Error: HTTPSConnectionPool(host='api.github.com', port=443): Max retries exceeded with url: /repos/akrickl-tgm/solar01 (Caused by SSLError(SSLEOFError(8, '[SSL: UNEXPECTED_EOF_WHILE_READING] EOF occurred in violation of protocol (_ssl.c:1006)')))\n"
     ]
    },
    {
     "name": "stderr",
     "output_type": "stream",
     "text": [
      "  2%|▏         | 610/24730 [02:41<4:19:04,  1.55it/s]"
     ]
    },
    {
     "name": "stdout",
     "output_type": "stream",
     "text": [
      "Error: HTTPSConnectionPool(host='api.github.com', port=443): Max retries exceeded with url: /repos/akaslavonic/Xenomips (Caused by SSLError(SSLEOFError(8, '[SSL: UNEXPECTED_EOF_WHILE_READING] EOF occurred in violation of protocol (_ssl.c:1006)')))\n",
      "Error: HTTPSConnectionPool(host='api.github.com', port=443): Max retries exceeded with url: /repos/Al3x3i/myProjects (Caused by SSLError(SSLEOFError(8, '[SSL: UNEXPECTED_EOF_WHILE_READING] EOF occurred in violation of protocol (_ssl.c:1006)')))\n"
     ]
    },
    {
     "name": "stderr",
     "output_type": "stream",
     "text": [
      "  3%|▎         | 623/24730 [02:45<3:45:57,  1.78it/s]"
     ]
    },
    {
     "name": "stdout",
     "output_type": "stream",
     "text": [
      "Error: HTTPSConnectionPool(host='api.github.com', port=443): Max retries exceeded with url: /repos/akun2014/TestJDK (Caused by SSLError(SSLEOFError(8, '[SSL: UNEXPECTED_EOF_WHILE_READING] EOF occurred in violation of protocol (_ssl.c:1006)')))\n",
      "Error: HTTPSConnectionPool(host='api.github.com', port=443): Max retries exceeded with url: /repos/akuster/poky (Caused by SSLError(SSLEOFError(8, '[SSL: UNEXPECTED_EOF_WHILE_READING] EOF occurred in violation of protocol (_ssl.c:1006)')))\n",
      "Error: HTTPSConnectionPool(host='api.github.com', port=443): Max retries exceeded with url: /repos/AKJ1/SoftuniRepo (Caused by SSLError(SSLEOFError(8, '[SSL: UNEXPECTED_EOF_WHILE_READING] EOF occurred in violation of protocol (_ssl.c:1006)')))\n",
      "Error: HTTPSConnectionPool(host='api.github.com', port=443): Max retries exceeded with url: /repos/al2wyw/GradleBuild (Caused by SSLError(SSLEOFError(8, '[SSL: UNEXPECTED_EOF_WHILE_READING] EOF occurred in violation of protocol (_ssl.c:1006)')))\n",
      "Error: HTTPSConnectionPool(host='api.github.com', port=443): Max retries exceeded with url: /repos/ala-k/conTECt (Caused by SSLError(SSLEOFError(8, '[SSL: UNEXPECTED_EOF_WHILE_READING] EOF occurred in violation of protocol (_ssl.c:1006)')))\n",
      "Error: HTTPSConnectionPool(host='api.github.com', port=443): Max retries exceeded with url: /repos/al223ec/1DV407-Workshop3 (Caused by SSLError(SSLEOFError(8, '[SSL: UNEXPECTED_EOF_WHILE_READING] EOF occurred in violation of protocol (_ssl.c:1006)')))\n"
     ]
    },
    {
     "name": "stderr",
     "output_type": "stream",
     "text": [
      "  3%|▎         | 628/24730 [02:51<4:16:54,  1.56it/s]"
     ]
    },
    {
     "name": "stdout",
     "output_type": "stream",
     "text": [
      "Error: HTTPSConnectionPool(host='api.github.com', port=443): Max retries exceeded with url: /repos/al223ec/1dv411 (Caused by SSLError(SSLEOFError(8, '[SSL: UNEXPECTED_EOF_WHILE_READING] EOF occurred in violation of protocol (_ssl.c:1006)')))\n",
      "Error: HTTPSConnectionPool(host='api.github.com', port=443): Max retries exceeded with url: /repos/AKomyshan/OOP_LABS (Caused by SSLError(SSLEOFError(8, '[SSL: UNEXPECTED_EOF_WHILE_READING] EOF occurred in violation of protocol (_ssl.c:1006)')))\n",
      "Error: HTTPSConnectionPool(host='api.github.com', port=443): Max retries exceeded with url: /repos/alafighting/jdic (Caused by SSLError(SSLEOFError(8, '[SSL: UNEXPECTED_EOF_WHILE_READING] EOF occurred in violation of protocol (_ssl.c:1006)')))\n",
      "Error: HTTPSConnectionPool(host='api.github.com', port=443): Max retries exceeded with url: /repos/alahjouji/IT340 (Caused by SSLError(SSLEOFError(8, '[SSL: UNEXPECTED_EOF_WHILE_READING] EOF occurred in violation of protocol (_ssl.c:1006)')))\n",
      "Error: HTTPSConnectionPool(host='api.github.com', port=443): Max retries exceeded with url: /repos/alagna/currency-exchange (Caused by SSLError(SSLEOFError(8, '[SSL: UNEXPECTED_EOF_WHILE_READING] EOF occurred in violation of protocol (_ssl.c:1006)')))\n",
      "Error: HTTPSConnectionPool(host='api.github.com', port=443): Max retries exceeded with url: /repos/alanpassos/integration-UFS (Caused by SSLError(SSLEOFError(8, '[SSL: UNEXPECTED_EOF_WHILE_READING] EOF occurred in violation of protocol (_ssl.c:1006)')))\n",
      "Error: HTTPSConnectionPool(host='api.github.com', port=443): Max retries exceeded with url: /repos/AlanGuerraQuispe/SisAtuxVenta (Caused by SSLError(SSLEOFError(8, '[SSL: UNEXPECTED_EOF_WHILE_READING] EOF occurred in violation of protocol (_ssl.c:1006)')))\n"
     ]
    },
    {
     "name": "stderr",
     "output_type": "stream",
     "text": [
      "  3%|▎         | 647/24730 [03:10<5:18:42,  1.26it/s]"
     ]
    },
    {
     "name": "stdout",
     "output_type": "stream",
     "text": [
      "Error: HTTPSConnectionPool(host='api.github.com', port=443): Max retries exceeded with url: /repos/alaershov/nsu-java-tasks (Caused by SSLError(SSLEOFError(8, '[SSL: UNEXPECTED_EOF_WHILE_READING] EOF occurred in violation of protocol (_ssl.c:1006)')))\n",
      "Error: HTTPSConnectionPool(host='api.github.com', port=443): Max retries exceeded with url: /repos/alanschlindvein/Anahy3 (Caused by SSLError(SSLEOFError(8, '[SSL: UNEXPECTED_EOF_WHILE_READING] EOF occurred in violation of protocol (_ssl.c:1006)')))\n",
      "Error: HTTPSConnectionPool(host='api.github.com', port=443): Max retries exceeded with url: /repos/alarie/Hofnahrr (Caused by SSLError(SSLEOFError(8, '[SSL: UNEXPECTED_EOF_WHILE_READING] EOF occurred in violation of protocol (_ssl.c:1006)')))\n",
      "Error: HTTPSConnectionPool(host='api.github.com', port=443): Max retries exceeded with url: /repos/alandball/SkySystems (Caused by SSLError(SSLEOFError(8, '[SSL: UNEXPECTED_EOF_WHILE_READING] EOF occurred in violation of protocol (_ssl.c:1006)')))\n",
      "Error: HTTPSConnectionPool(host='api.github.com', port=443): Max retries exceeded with url: /repos/alejandrorueda/monopoly (Caused by SSLError(SSLEOFError(8, '[SSL: UNEXPECTED_EOF_WHILE_READING] EOF occurred in violation of protocol (_ssl.c:1006)')))\n",
      "Error: HTTPSConnectionPool(host='api.github.com', port=443): Max retries exceeded with url: /repos/AlanJhones/ControleEstoqueInteligente2 (Caused by SSLError(SSLEOFError(8, '[SSL: UNEXPECTED_EOF_WHILE_READING] EOF occurred in violation of protocol (_ssl.c:1006)')))\n",
      "Error: HTTPSConnectionPool(host='api.github.com', port=443): Max retries exceeded with url: /repos/alarichadef/na17 (Caused by SSLError(SSLEOFError(8, '[SSL: UNEXPECTED_EOF_WHILE_READING] EOF occurred in violation of protocol (_ssl.c:1006)')))\n",
      "Error: HTTPSConnectionPool(host='api.github.com', port=443): Max retries exceeded with url: /repos/alanwong22/bears (Caused by SSLError(SSLEOFError(8, '[SSL: UNEXPECTED_EOF_WHILE_READING] EOF occurred in violation of protocol (_ssl.c:1006)')))\n",
      "Error: HTTPSConnectionPool(host='api.github.com', port=443): Max retries exceeded with url: /repos/alansantamaria/untref-aydoo-asantamaria (Caused by SSLError(SSLEOFError(8, '[SSL: UNEXPECTED_EOF_WHILE_READING] EOF occurred in violation of protocol (_ssl.c:1006)')))\n",
      "Error: HTTPSConnectionPool(host='api.github.com', port=443): Max retries exceeded with url: /repos/alessandrostein/hibernate-persistence (Caused by SSLError(SSLEOFError(8, '[SSL: UNEXPECTED_EOF_WHILE_READING] EOF occurred in violation of protocol (_ssl.c:1006)')))\n",
      "Error: HTTPSConnectionPool(host='api.github.com', port=443): Max retries exceeded with url: /repos/aleknaui/akpostfixcalc (Caused by SSLError(SSLEOFError(8, '[SSL: UNEXPECTED_EOF_WHILE_READING] EOF occurred in violation of protocol (_ssl.c:1006)')))\n",
      "Error: HTTPSConnectionPool(host='api.github.com', port=443): Max retries exceeded with url: /repos/aleabalo/SanJoseTrivia (Caused by SSLError(SSLEOFError(8, '[SSL: UNEXPECTED_EOF_WHILE_READING] EOF occurred in violation of protocol (_ssl.c:1006)')))\n",
      "Error: HTTPSConnectionPool(host='api.github.com', port=443): Max retries exceeded with url: /repos/alanhughes/gameOfLife (Caused by SSLError(SSLEOFError(8, '[SSL: UNEXPECTED_EOF_WHILE_READING] EOF occurred in violation of protocol (_ssl.c:1006)')))\n",
      "Error: HTTPSConnectionPool(host='api.github.com', port=443): Max retries exceeded with url: /repos/alankyshum/ISOM3320---Typing-Meteorite (Caused by SSLError(SSLEOFError(8, '[SSL: UNEXPECTED_EOF_WHILE_READING] EOF occurred in violation of protocol (_ssl.c:1006)')))\n",
      "Error: HTTPSConnectionPool(host='api.github.com', port=443): Max retries exceeded with url: /repos/alengqvist/Aware-Client-Android (Caused by SSLError(SSLEOFError(8, '[SSL: UNEXPECTED_EOF_WHILE_READING] EOF occurred in violation of protocol (_ssl.c:1006)')))\n",
      "Error: HTTPSConnectionPool(host='api.github.com', port=443): Max retries exceeded with url: /repos/alanrodas/PharoBot (Caused by SSLError(SSLEOFError(8, '[SSL: UNEXPECTED_EOF_WHILE_READING] EOF occurred in violation of protocol (_ssl.c:1006)')))\n",
      "Error: HTTPSConnectionPool(host='api.github.com', port=443): Max retries exceeded with url: /repos/albertmori/Wpf-Prism-2015 (Caused by SSLError(SSLEOFError(8, '[SSL: UNEXPECTED_EOF_WHILE_READING] EOF occurred in violation of protocol (_ssl.c:1006)')))\n",
      "Error: HTTPSConnectionPool(host='api.github.com', port=443): Max retries exceeded with url: /repos/AlekseiBabichev/my-Experience (Caused by SSLError(SSLEOFError(8, '[SSL: UNEXPECTED_EOF_WHILE_READING] EOF occurred in violation of protocol (_ssl.c:1006)')))\n",
      "Error: HTTPSConnectionPool(host='api.github.com', port=443): Max retries exceeded with url: /repos/alekjin/NEXToTo (Caused by SSLError(SSLEOFError(8, '[SSL: UNEXPECTED_EOF_WHILE_READING] EOF occurred in violation of protocol (_ssl.c:1006)')))\n",
      "Error: HTTPSConnectionPool(host='api.github.com', port=443): Max retries exceeded with url: /repos/alejoceballos/jack-ketch-4-flow (Caused by SSLError(SSLEOFError(8, '[SSL: UNEXPECTED_EOF_WHILE_READING] EOF occurred in violation of protocol (_ssl.c:1006)')))\n",
      "Error: HTTPSConnectionPool(host='api.github.com', port=443): Max retries exceeded with url: /repos/AlejandroVera/ProjectTwitter (Caused by SSLError(SSLEOFError(8, '[SSL: UNEXPECTED_EOF_WHILE_READING] EOF occurred in violation of protocol (_ssl.c:1006)')))\n",
      "Error: HTTPSConnectionPool(host='api.github.com', port=443): Max retries exceeded with url: /repos/Alessandro59/Letter (Caused by SSLError(SSLEOFError(8, '[SSL: UNEXPECTED_EOF_WHILE_READING] EOF occurred in violation of protocol (_ssl.c:1006)')))\n",
      "Error: HTTPSConnectionPool(host='api.github.com', port=443): Max retries exceeded with url: /repos/alexandercrichton/inn374 (Caused by SSLError(SSLEOFError(8, '[SSL: UNEXPECTED_EOF_WHILE_READING] EOF occurred in violation of protocol (_ssl.c:1006)')))\n",
      "Error: HTTPSConnectionPool(host='api.github.com', port=443): Max retries exceeded with url: /repos/alengqvist/Object-Oriented-Analysis-and-Design-with-UML (Caused by SSLError(SSLEOFError(8, '[SSL: UNEXPECTED_EOF_WHILE_READING] EOF occurred in violation of protocol (_ssl.c:1006)')))\n",
      "Error: HTTPSConnectionPool(host='api.github.com', port=443): Max retries exceeded with url: /repos/Alexander-Schiendorfer/active-learning-collectives (Caused by SSLError(SSLEOFError(8, '[SSL: UNEXPECTED_EOF_WHILE_READING] EOF occurred in violation of protocol (_ssl.c:1006)')))\n",
      "Error: HTTPSConnectionPool(host='api.github.com', port=443): Max retries exceeded with url: /repos/alekhya1191/AdvancedSoftwareEngineering (Caused by SSLError(SSLEOFError(8, '[SSL: UNEXPECTED_EOF_WHILE_READING] EOF occurred in violation of protocol (_ssl.c:1006)')))\n",
      "Error: HTTPSConnectionPool(host='api.github.com', port=443): Max retries exceeded with url: /repos/Alecppt/fortressDefence (Caused by SSLError(SSLEOFError(8, '[SSL: UNEXPECTED_EOF_WHILE_READING] EOF occurred in violation of protocol (_ssl.c:1006)')))\n",
      "Error: HTTPSConnectionPool(host='api.github.com', port=443): Max retries exceeded with url: /repos/alejgamez/monitorizacion (Caused by SSLError(SSLEOFError(8, '[SSL: UNEXPECTED_EOF_WHILE_READING] EOF occurred in violation of protocol (_ssl.c:1006)')))\n",
      "Error: HTTPSConnectionPool(host='api.github.com', port=443): Max retries exceeded with url: /repos/aleksanb/TDT4140-Undass (Caused by SSLError(SSLEOFError(8, '[SSL: UNEXPECTED_EOF_WHILE_READING] EOF occurred in violation of protocol (_ssl.c:1006)')))\n",
      "Error: HTTPSConnectionPool(host='api.github.com', port=443): Max retries exceeded with url: /repos/alesh-kajzar/poker (Caused by SSLError(SSLEOFError(8, '[SSL: UNEXPECTED_EOF_WHILE_READING] EOF occurred in violation of protocol (_ssl.c:1006)')))\n",
      "Error: HTTPSConnectionPool(host='api.github.com', port=443): Max retries exceeded with url: /repos/alew104/AxonVR (Caused by SSLError(SSLEOFError(8, '[SSL: UNEXPECTED_EOF_WHILE_READING] EOF occurred in violation of protocol (_ssl.c:1006)')))\n",
      "Error: HTTPSConnectionPool(host='api.github.com', port=443): Max retries exceeded with url: /repos/AlexJCarstensen/HandIn4-I4DAB (Caused by SSLError(SSLEOFError(8, '[SSL: UNEXPECTED_EOF_WHILE_READING] EOF occurred in violation of protocol (_ssl.c:1006)')))\n",
      "Error: HTTPSConnectionPool(host='api.github.com', port=443): Max retries exceeded with url: /repos/alexander-nemirovskiy/SWE2_project (Caused by SSLError(SSLEOFError(8, '[SSL: UNEXPECTED_EOF_WHILE_READING] EOF occurred in violation of protocol (_ssl.c:1006)')))\n",
      "Error: HTTPSConnectionPool(host='api.github.com', port=443): Max retries exceeded with url: /repos/AleksandarDev/LD26 (Caused by SSLError(SSLEOFError(8, '[SSL: UNEXPECTED_EOF_WHILE_READING] EOF occurred in violation of protocol (_ssl.c:1006)')))\n",
      "Error: HTTPSConnectionPool(host='api.github.com', port=443): Max retries exceeded with url: /repos/AlexMourousy/moodzeek (Caused by SSLError(SSLEOFError(8, '[SSL: UNEXPECTED_EOF_WHILE_READING] EOF occurred in violation of protocol (_ssl.c:1006)')))\n",
      "Error: HTTPSConnectionPool(host='api.github.com', port=443): Max retries exceeded with url: /repos/Alexander-Schiendorfer/TCCI-Abstraction (Caused by SSLError(SSLEOFError(8, '[SSL: UNEXPECTED_EOF_WHILE_READING] EOF occurred in violation of protocol (_ssl.c:1006)')))\n",
      "Error: HTTPSConnectionPool(host='api.github.com', port=443): Max retries exceeded with url: /repos/alexf2/BackPackPuzzle (Caused by SSLError(SSLEOFError(8, '[SSL: UNEXPECTED_EOF_WHILE_READING] EOF occurred in violation of protocol (_ssl.c:1006)')))\n",
      "Error: HTTPSConnectionPool(host='api.github.com', port=443): Max retries exceeded with url: /repos/alexandercg/finalDS (Caused by SSLError(SSLEOFError(8, '[SSL: UNEXPECTED_EOF_WHILE_READING] EOF occurred in violation of protocol (_ssl.c:1006)')))\n",
      "Error: HTTPSConnectionPool(host='api.github.com', port=443): Max retries exceeded with url: /repos/AliceLuo1016/Crime-Hub (Caused by SSLError(SSLEOFError(8, '[SSL: UNEXPECTED_EOF_WHILE_READING] EOF occurred in violation of protocol (_ssl.c:1006)')))\n",
      "Error: HTTPSConnectionPool(host='api.github.com', port=443): Max retries exceeded with url: /repos/Alexander091/text-adventure (Caused by SSLError(SSLEOFError(8, '[SSL: UNEXPECTED_EOF_WHILE_READING] EOF occurred in violation of protocol (_ssl.c:1006)')))\n",
      "Error: HTTPSConnectionPool(host='api.github.com', port=443): Max retries exceeded with url: /repos/AlexGridasov/hf-patterns (Caused by SSLError(SSLEOFError(8, '[SSL: UNEXPECTED_EOF_WHILE_READING] EOF occurred in violation of protocol (_ssl.c:1006)')))\n",
      "Error: HTTPSConnectionPool(host='api.github.com', port=443): Max retries exceeded with url: /repos/AliLigi/OOWordCloud (Caused by SSLError(SSLEOFError(8, '[SSL: UNEXPECTED_EOF_WHILE_READING] EOF occurred in violation of protocol (_ssl.c:1006)')))\n"
     ]
    },
    {
     "name": "stderr",
     "output_type": "stream",
     "text": [
      "  3%|▎         | 653/24730 [04:07<14:22:53,  2.15s/it]"
     ]
    },
    {
     "name": "stdout",
     "output_type": "stream",
     "text": [
      "Error: HTTPSConnectionPool(host='api.github.com', port=443): Max retries exceeded with url: /repos/alaiscs/java-LPII (Caused by SSLError(SSLEOFError(8, '[SSL: UNEXPECTED_EOF_WHILE_READING] EOF occurred in violation of protocol (_ssl.c:1006)')))\n",
      "Error: HTTPSConnectionPool(host='api.github.com', port=443): Max retries exceeded with url: /repos/AlexMcGilvray/FightingGameStudyLog (Caused by SSLError(SSLEOFError(8, '[SSL: UNEXPECTED_EOF_WHILE_READING] EOF occurred in violation of protocol (_ssl.c:1006)')))\n",
      "Error: HTTPSConnectionPool(host='api.github.com', port=443): Max retries exceeded with url: /repos/alimirza/assignment1 (Caused by SSLError(SSLEOFError(8, '[SSL: UNEXPECTED_EOF_WHILE_READING] EOF occurred in violation of protocol (_ssl.c:1006)')))\n",
      "Error: HTTPSConnectionPool(host='api.github.com', port=443): Max retries exceeded with url: /repos/alishouman/qwertyuiop (Caused by SSLError(SSLEOFError(8, '[SSL: UNEXPECTED_EOF_WHILE_READING] EOF occurred in violation of protocol (_ssl.c:1006)')))\n",
      "Error: HTTPSConnectionPool(host='api.github.com', port=443): Max retries exceeded with url: /repos/alisomer/essexbooking (Caused by SSLError(SSLEOFError(8, '[SSL: UNEXPECTED_EOF_WHILE_READING] EOF occurred in violation of protocol (_ssl.c:1006)')))\n",
      "Error: HTTPSConnectionPool(host='api.github.com', port=443): Max retries exceeded with url: /repos/alyxal/karibou (Caused by SSLError(SSLEOFError(8, '[SSL: UNEXPECTED_EOF_WHILE_READING] EOF occurred in violation of protocol (_ssl.c:1006)')))\n",
      "Error: HTTPSConnectionPool(host='api.github.com', port=443): Max retries exceeded with url: /repos/alu0100698411/GEMNASIUM (Caused by SSLError(SSLEOFError(8, '[SSL: UNEXPECTED_EOF_WHILE_READING] EOF occurred in violation of protocol (_ssl.c:1006)')))\n",
      "Error: HTTPSConnectionPool(host='api.github.com', port=443): Max retries exceeded with url: /repos/alexlevy0/Jweb-Epitech (Caused by SSLError(SSLEOFError(8, '[SSL: UNEXPECTED_EOF_WHILE_READING] EOF occurred in violation of protocol (_ssl.c:1006)')))\n",
      "Error: HTTPSConnectionPool(host='api.github.com', port=443): Max retries exceeded with url: /repos/alitigeller/Malhaaquaviaria-DAO (Caused by SSLError(SSLEOFError(8, '[SSL: UNEXPECTED_EOF_WHILE_READING] EOF occurred in violation of protocol (_ssl.c:1006)')))\n",
      "Error: HTTPSConnectionPool(host='api.github.com', port=443): Max retries exceeded with url: /repos/alinaMihai/hobbies-project (Caused by SSLError(SSLEOFError(8, '[SSL: UNEXPECTED_EOF_WHILE_READING] EOF occurred in violation of protocol (_ssl.c:1006)')))\n",
      "Error: HTTPSConnectionPool(host='api.github.com', port=443): Max retries exceeded with url: /repos/AlexJCarstensen/AirTrafficMonitoring-I4SWT (Caused by SSLError(SSLEOFError(8, '[SSL: UNEXPECTED_EOF_WHILE_READING] EOF occurred in violation of protocol (_ssl.c:1006)')))\n",
      "Error: HTTPSConnectionPool(host='api.github.com', port=443): Max retries exceeded with url: /repos/alucarded/VideoObjectExtractor (Caused by SSLError(SSLEOFError(8, '[SSL: UNEXPECTED_EOF_WHILE_READING] EOF occurred in violation of protocol (_ssl.c:1006)')))\n",
      "Error: HTTPSConnectionPool(host='api.github.com', port=443): Max retries exceeded with url: /repos/allianceSparx/frameworks_base (Caused by SSLError(SSLEOFError(8, '[SSL: UNEXPECTED_EOF_WHILE_READING] EOF occurred in violation of protocol (_ssl.c:1006)')))\n"
     ]
    },
    {
     "name": "stderr",
     "output_type": "stream",
     "text": [
      "  3%|▎         | 748/24730 [04:17<2:58:58,  2.23it/s] "
     ]
    },
    {
     "name": "stdout",
     "output_type": "stream",
     "text": [
      "Error: HTTPSConnectionPool(host='api.github.com', port=443): Max retries exceeded with url: /repos/alessandrostein/hibernate-persistence-query-nomeada (Caused by SSLError(SSLEOFError(8, '[SSL: UNEXPECTED_EOF_WHILE_READING] EOF occurred in violation of protocol (_ssl.c:1006)')))\n",
      "Error: HTTPSConnectionPool(host='api.github.com', port=443): Max retries exceeded with url: /repos/alimoeeny/SpikeLAB (Caused by SSLError(SSLEOFError(8, '[SSL: UNEXPECTED_EOF_WHILE_READING] EOF occurred in violation of protocol (_ssl.c:1006)')))\n",
      "Error: HTTPSConnectionPool(host='api.github.com', port=443): Max retries exceeded with url: /repos/alineseit/prototipo (Caused by SSLError(SSLEOFError(8, '[SSL: UNEXPECTED_EOF_WHILE_READING] EOF occurred in violation of protocol (_ssl.c:1006)')))\n",
      "Error: HTTPSConnectionPool(host='api.github.com', port=443): Max retries exceeded with url: /repos/Allgoodok/AssemblerTranslator (Caused by SSLError(SSLEOFError(8, '[SSL: UNEXPECTED_EOF_WHILE_READING] EOF occurred in violation of protocol (_ssl.c:1006)')))\n",
      "Error: HTTPSConnectionPool(host='api.github.com', port=443): Max retries exceeded with url: /repos/algaworks/curso-fundamentos-java-e-orientacao-a-objetos (Caused by SSLError(SSLEOFError(8, '[SSL: UNEXPECTED_EOF_WHILE_READING] EOF occurred in violation of protocol (_ssl.c:1006)')))\n",
      "Error: HTTPSConnectionPool(host='api.github.com', port=443): Max retries exceeded with url: /repos/alexiatkd/catizzone.roberta_chiappa.alessia-SE2.PROJECT (Caused by SSLError(SSLEOFError(8, '[SSL: UNEXPECTED_EOF_WHILE_READING] EOF occurred in violation of protocol (_ssl.c:1006)')))\n",
      "Error: HTTPSConnectionPool(host='api.github.com', port=443): Max retries exceeded with url: /repos/AlexFaraino/RSS-Lounge-Fork (Caused by SSLError(SSLEOFError(8, '[SSL: UNEXPECTED_EOF_WHILE_READING] EOF occurred in violation of protocol (_ssl.c:1006)')))\n"
     ]
    },
    {
     "name": "stderr",
     "output_type": "stream",
     "text": [
      "  3%|▎         | 835/24730 [04:22<1:33:07,  4.28it/s]"
     ]
    },
    {
     "name": "stdout",
     "output_type": "stream",
     "text": [
      "Error: HTTPSConnectionPool(host='api.github.com', port=443): Max retries exceeded with url: /repos/AliYousuf/pdfedit-ng- (Caused by SSLError(SSLEOFError(8, '[SSL: UNEXPECTED_EOF_WHILE_READING] EOF occurred in violation of protocol (_ssl.c:1006)')))\n",
      "Error: HTTPSConnectionPool(host='api.github.com', port=443): Max retries exceeded with url: /repos/AliYousuf/pdfedit-ng (Caused by SSLError(SSLEOFError(8, '[SSL: UNEXPECTED_EOF_WHILE_READING] EOF occurred in violation of protocol (_ssl.c:1006)')))\n",
      "Error: HTTPSConnectionPool(host='api.github.com', port=443): Max retries exceeded with url: /repos/Aljuly/MdUMLDiagr (Caused by SSLError(SSLEOFError(8, '[SSL: UNEXPECTED_EOF_WHILE_READING] EOF occurred in violation of protocol (_ssl.c:1006)')))\n",
      "Error: HTTPSConnectionPool(host='api.github.com', port=443): Max retries exceeded with url: /repos/Aliced3645/DataCenterMarketing (Caused by SSLError(SSLEOFError(8, '[SSL: UNEXPECTED_EOF_WHILE_READING] EOF occurred in violation of protocol (_ssl.c:1006)')))\n",
      "Error: HTTPSConnectionPool(host='api.github.com', port=443): Max retries exceeded with url: /repos/almirpehratovic/REA (Caused by SSLError(SSLEOFError(8, '[SSL: UNEXPECTED_EOF_WHILE_READING] EOF occurred in violation of protocol (_ssl.c:1006)')))\n",
      "Error: HTTPSConnectionPool(host='api.github.com', port=443): Max retries exceeded with url: /repos/alvindaiyan/alvindaiyan.github.io (Caused by SSLError(SSLEOFError(8, '[SSL: UNEXPECTED_EOF_WHILE_READING] EOF occurred in violation of protocol (_ssl.c:1006)')))\n",
      "Error: HTTPSConnectionPool(host='api.github.com', port=443): Max retries exceeded with url: /repos/almittas/InvestoBank (Caused by SSLError(SSLEOFError(8, '[SSL: UNEXPECTED_EOF_WHILE_READING] EOF occurred in violation of protocol (_ssl.c:1006)')))\n",
      "Error: HTTPSConnectionPool(host='api.github.com', port=443): Max retries exceeded with url: /repos/allis-asso/manage-park (Caused by SSLError(SSLEOFError(8, '[SSL: UNEXPECTED_EOF_WHILE_READING] EOF occurred in violation of protocol (_ssl.c:1006)')))\n",
      "Error: HTTPSConnectionPool(host='api.github.com', port=443): Max retries exceeded with url: /repos/allwinner-ics/platform_frameworks_base (Caused by SSLError(SSLEOFError(8, '[SSL: UNEXPECTED_EOF_WHILE_READING] EOF occurred in violation of protocol (_ssl.c:1006)')))\n",
      "Error: HTTPSConnectionPool(host='api.github.com', port=443): Max retries exceeded with url: /repos/Aliaksei-Chynayeu/Aliaksei-Chynayeu-Group-1 (Caused by SSLError(SSLEOFError(8, '[SSL: UNEXPECTED_EOF_WHILE_READING] EOF occurred in violation of protocol (_ssl.c:1006)')))\n",
      "Error: HTTPSConnectionPool(host='api.github.com', port=443): Max retries exceeded with url: /repos/alleria1212/GUI_Minimal_Surface_QT (Caused by SSLError(SSLEOFError(8, '[SSL: UNEXPECTED_EOF_WHILE_READING] EOF occurred in violation of protocol (_ssl.c:1006)')))\n",
      "Error: HTTPSConnectionPool(host='api.github.com', port=443): Max retries exceeded with url: /repos/alleysark/IsThere (Caused by SSLError(SSLEOFError(8, '[SSL: UNEXPECTED_EOF_WHILE_READING] EOF occurred in violation of protocol (_ssl.c:1006)')))\n",
      "Error: HTTPSConnectionPool(host='api.github.com', port=443): Max retries exceeded with url: /repos/alitigeller/CalculadoraMVC (Caused by SSLError(SSLEOFError(8, '[SSL: UNEXPECTED_EOF_WHILE_READING] EOF occurred in violation of protocol (_ssl.c:1006)')))\n"
     ]
    },
    {
     "name": "stderr",
     "output_type": "stream",
     "text": [
      "  4%|▎         | 876/24730 [04:35<1:41:44,  3.91it/s]"
     ]
    },
    {
     "name": "stdout",
     "output_type": "stream",
     "text": [
      "Error: HTTPSConnectionPool(host='api.github.com', port=443): Max retries exceeded with url: /repos/alsmoreira/sistemasembarcados (Caused by SSLError(SSLEOFError(8, '[SSL: UNEXPECTED_EOF_WHILE_READING] EOF occurred in violation of protocol (_ssl.c:1006)')))\n",
      "Error: HTTPSConnectionPool(host='api.github.com', port=443): Max retries exceeded with url: /repos/alyssonajackson/tig2_2014_01 (Caused by SSLError(SSLEOFError(8, '[SSL: UNEXPECTED_EOF_WHILE_READING] EOF occurred in violation of protocol (_ssl.c:1006)')))\n",
      "Error: HTTPSConnectionPool(host='api.github.com', port=443): Max retries exceeded with url: /repos/alu0100693386/prct11 (Caused by SSLError(SSLEOFError(8, '[SSL: UNEXPECTED_EOF_WHILE_READING] EOF occurred in violation of protocol (_ssl.c:1006)')))\n",
      "Error: HTTPSConnectionPool(host='api.github.com', port=443): Max retries exceeded with url: /repos/alyosama/UMLModeler (Caused by SSLError(SSLEOFError(8, '[SSL: UNEXPECTED_EOF_WHILE_READING] EOF occurred in violation of protocol (_ssl.c:1006)')))\n",
      "Error: HTTPSConnectionPool(host='api.github.com', port=443): Max retries exceeded with url: /repos/ananchanyong/Mammoth (Caused by SSLError(SSLEOFError(8, '[SSL: UNEXPECTED_EOF_WHILE_READING] EOF occurred in violation of protocol (_ssl.c:1006)')))\n",
      "Error: HTTPSConnectionPool(host='api.github.com', port=443): Max retries exceeded with url: /repos/alvesjnr/T100 (Caused by SSLError(SSLEOFError(8, '[SSL: UNEXPECTED_EOF_WHILE_READING] EOF occurred in violation of protocol (_ssl.c:1006)')))\n",
      "Error: HTTPSConnectionPool(host='api.github.com', port=443): Max retries exceeded with url: /repos/alvinvinvinvin/capstone (Caused by SSLError(SSLEOFError(8, '[SSL: UNEXPECTED_EOF_WHILE_READING] EOF occurred in violation of protocol (_ssl.c:1006)')))\n",
      "Error: HTTPSConnectionPool(host='api.github.com', port=443): Max retries exceeded with url: /repos/alynka2991/Change-your-book (Caused by SSLError(SSLEOFError(8, '[SSL: UNEXPECTED_EOF_WHILE_READING] EOF occurred in violation of protocol (_ssl.c:1006)')))\n",
      "Error: HTTPSConnectionPool(host='api.github.com', port=443): Max retries exceeded with url: /repos/AlvinTech/ShiroDemo (Caused by SSLError(SSLEOFError(8, '[SSL: UNEXPECTED_EOF_WHILE_READING] EOF occurred in violation of protocol (_ssl.c:1006)')))\n",
      "Error: HTTPSConnectionPool(host='api.github.com', port=443): Max retries exceeded with url: /repos/alvarovn/reactor (Caused by SSLError(SSLEOFError(8, '[SSL: UNEXPECTED_EOF_WHILE_READING] EOF occurred in violation of protocol (_ssl.c:1006)')))\n",
      "Error: HTTPSConnectionPool(host='api.github.com', port=443): Max retries exceeded with url: /repos/AmbroiseT/OberoN (Caused by SSLError(SSLEOFError(8, '[SSL: UNEXPECTED_EOF_WHILE_READING] EOF occurred in violation of protocol (_ssl.c:1006)')))\n",
      "Error: HTTPSConnectionPool(host='api.github.com', port=443): Max retries exceeded with url: /repos/AmamiHaruka/MeetingManage (Caused by SSLError(SSLEOFError(8, '[SSL: UNEXPECTED_EOF_WHILE_READING] EOF occurred in violation of protocol (_ssl.c:1006)')))\n",
      "Error: HTTPSConnectionPool(host='api.github.com', port=443): Max retries exceeded with url: /repos/Alzathar/b-tk.googlecode.backup (Caused by SSLError(SSLEOFError(8, '[SSL: UNEXPECTED_EOF_WHILE_READING] EOF occurred in violation of protocol (_ssl.c:1006)')))\n",
      "Error: HTTPSConnectionPool(host='api.github.com', port=443): Max retries exceeded with url: /repos/Amatarasu/A-Team (Caused by SSLError(SSLEOFError(8, '[SSL: UNEXPECTED_EOF_WHILE_READING] EOF occurred in violation of protocol (_ssl.c:1006)')))\n",
      "Error: HTTPSConnectionPool(host='api.github.com', port=443): Max retries exceeded with url: /repos/amandaccsantos/Blackjack (Caused by SSLError(SSLEOFError(8, '[SSL: UNEXPECTED_EOF_WHILE_READING] EOF occurred in violation of protocol (_ssl.c:1006)')))\n",
      "Error: HTTPSConnectionPool(host='api.github.com', port=443): Max retries exceeded with url: /repos/AMartinNo1/AWE-Projekt-Scrum (Caused by SSLError(SSLEOFError(8, '[SSL: UNEXPECTED_EOF_WHILE_READING] EOF occurred in violation of protocol (_ssl.c:1006)')))\n",
      "Error: HTTPSConnectionPool(host='api.github.com', port=443): Max retries exceeded with url: /repos/Amakri1020/DPMFinalProject (Caused by SSLError(SSLEOFError(8, '[SSL: UNEXPECTED_EOF_WHILE_READING] EOF occurred in violation of protocol (_ssl.c:1006)')))\n",
      "Error: HTTPSConnectionPool(host='api.github.com', port=443): Max retries exceeded with url: /repos/almostcake/tod_prime (Caused by SSLError(SSLEOFError(8, '[SSL: UNEXPECTED_EOF_WHILE_READING] EOF occurred in violation of protocol (_ssl.c:1006)')))\n",
      "Error: HTTPSConnectionPool(host='api.github.com', port=443): Max retries exceeded with url: /repos/alitigeller/FabricaNaviosV3 (Caused by SSLError(SSLEOFError(8, '[SSL: UNEXPECTED_EOF_WHILE_READING] EOF occurred in violation of protocol (_ssl.c:1006)')))\n"
     ]
    },
    {
     "name": "stderr",
     "output_type": "stream",
     "text": [
      "  4%|▍         | 928/24730 [04:51<1:38:33,  4.03it/s]"
     ]
    },
    {
     "name": "stdout",
     "output_type": "stream",
     "text": [
      "Error: HTTPSConnectionPool(host='api.github.com', port=443): Max retries exceeded with url: /repos/anandpb/iOS_Starter (Caused by SSLError(SSLEOFError(8, '[SSL: UNEXPECTED_EOF_WHILE_READING] EOF occurred in violation of protocol (_ssl.c:1006)')))Error: HTTPSConnectionPool(host='api.github.com', port=443): Max retries exceeded with url: /repos/anarion1191/MUI (Caused by SSLError(SSLEOFError(8, '[SSL: UNEXPECTED_EOF_WHILE_READING] EOF occurred in violation of protocol (_ssl.c:1006)')))\n",
      "Error: HTTPSConnectionPool(host='api.github.com', port=443): Max retries exceeded with url: /repos/Amadiro/amadiro-krita (Caused by SSLError(SSLEOFError(8, '[SSL: UNEXPECTED_EOF_WHILE_READING] EOF occurred in violation of protocol (_ssl.c:1006)')))\n",
      "Error: HTTPSConnectionPool(host='api.github.com', port=443): Max retries exceeded with url: /repos/alwyss/winprog (Caused by SSLError(SSLEOFError(8, '[SSL: UNEXPECTED_EOF_WHILE_READING] EOF occurred in violation of protocol (_ssl.c:1006)')))\n",
      "Error: HTTPSConnectionPool(host='api.github.com', port=443): Max retries exceeded with url: /repos/AmberStarTeam/VirtualWar (Caused by SSLError(SSLEOFError(8, '[SSL: UNEXPECTED_EOF_WHILE_READING] EOF occurred in violation of protocol (_ssl.c:1006)')))\n",
      "\n",
      "Error: HTTPSConnectionPool(host='api.github.com', port=443): Max retries exceeded with url: /repos/anagri/unicenta (Caused by SSLError(SSLEOFError(8, '[SSL: UNEXPECTED_EOF_WHILE_READING] EOF occurred in violation of protocol (_ssl.c:1006)')))\n",
      "Error: HTTPSConnectionPool(host='api.github.com', port=443): Max retries exceeded with url: /repos/almeidaalcyr/IBS (Caused by SSLError(SSLEOFError(8, '[SSL: UNEXPECTED_EOF_WHILE_READING] EOF occurred in violation of protocol (_ssl.c:1006)')))\n",
      "Error: HTTPSConnectionPool(host='api.github.com', port=443): Max retries exceeded with url: /repos/AlysiaWu/oreily-JS-course (Caused by SSLError(SSLEOFError(8, '[SSL: UNEXPECTED_EOF_WHILE_READING] EOF occurred in violation of protocol (_ssl.c:1006)')))\n",
      "Error: HTTPSConnectionPool(host='api.github.com', port=443): Max retries exceeded with url: /repos/andreiolaru-ro/net.xqhs.Logging (Caused by SSLError(SSLEOFError(8, '[SSL: UNEXPECTED_EOF_WHILE_READING] EOF occurred in violation of protocol (_ssl.c:1006)')))\n",
      "Error: HTTPSConnectionPool(host='api.github.com', port=443): Max retries exceeded with url: /repos/anant-pushkar/competetive_programming_codes (Caused by SSLError(SSLEOFError(8, '[SSL: UNEXPECTED_EOF_WHILE_READING] EOF occurred in violation of protocol (_ssl.c:1006)')))\n",
      "Error: HTTPSConnectionPool(host='api.github.com', port=443): Max retries exceeded with url: /repos/alx741/final_web (Caused by SSLError(SSLEOFError(8, '[SSL: UNEXPECTED_EOF_WHILE_READING] EOF occurred in violation of protocol (_ssl.c:1006)')))\n",
      "Error: HTTPSConnectionPool(host='api.github.com', port=443): Max retries exceeded with url: /repos/amarbayar/jams (Caused by SSLError(SSLEOFError(8, '[SSL: UNEXPECTED_EOF_WHILE_READING] EOF occurred in violation of protocol (_ssl.c:1006)')))Error: HTTPSConnectionPool(host='api.github.com', port=443): Max retries exceeded with url: /repos/ambihelical/dotfiles (Caused by SSLError(SSLEOFError(8, '[SSL: UNEXPECTED_EOF_WHILE_READING] EOF occurred in violation of protocol (_ssl.c:1006)')))\n",
      "Error: HTTPSConnectionPool(host='api.github.com', port=443): Max retries exceeded with url: /repos/AnanievKonstantin/Diplom (Caused by SSLError(SSLEOFError(8, '[SSL: UNEXPECTED_EOF_WHILE_READING] EOF occurred in violation of protocol (_ssl.c:1006)')))\n",
      "Error: HTTPSConnectionPool(host='api.github.com', port=443): Max retries exceeded with url: /repos/Amebus/KillersWearsPrada (Caused by SSLError(SSLEOFError(8, '[SSL: UNEXPECTED_EOF_WHILE_READING] EOF occurred in violation of protocol (_ssl.c:1006)')))\n",
      "\n",
      "Error: HTTPSConnectionPool(host='api.github.com', port=443): Max retries exceeded with url: /repos/amarpb/HDInsightWatson (Caused by SSLError(SSLEOFError(8, '[SSL: UNEXPECTED_EOF_WHILE_READING] EOF occurred in violation of protocol (_ssl.c:1006)')))\n",
      "Error: HTTPSConnectionPool(host='api.github.com', port=443): Max retries exceeded with url: /repos/amdy01/prueba (Caused by SSLError(SSLEOFError(8, '[SSL: UNEXPECTED_EOF_WHILE_READING] EOF occurred in violation of protocol (_ssl.c:1006)')))\n"
     ]
    },
    {
     "name": "stderr",
     "output_type": "stream",
     "text": [
      "  4%|▍         | 988/24730 [04:56<56:48,  6.97it/s]  "
     ]
    },
    {
     "name": "stdout",
     "output_type": "stream",
     "text": [
      "Error: HTTPSConnectionPool(host='api.github.com', port=443): Max retries exceeded with url: /repos/amir9979/sadna (Caused by SSLError(SSLEOFError(8, '[SSL: UNEXPECTED_EOF_WHILE_READING] EOF occurred in violation of protocol (_ssl.c:1006)')))Error: HTTPSConnectionPool(host='api.github.com', port=443): Max retries exceeded with url: /repos/AmalgamationTeam/Amalgamations (Caused by SSLError(SSLEOFError(8, '[SSL: UNEXPECTED_EOF_WHILE_READING] EOF occurred in violation of protocol (_ssl.c:1006)')))\n",
      "\n",
      "Error: HTTPSConnectionPool(host='api.github.com', port=443): Max retries exceeded with url: /repos/anapaulabarros/projeto-lp2 (Caused by SSLError(SSLEOFError(8, '[SSL: UNEXPECTED_EOF_WHILE_READING] EOF occurred in violation of protocol (_ssl.c:1006)')))\n",
      "Error: HTTPSConnectionPool(host='api.github.com', port=443): Max retries exceeded with url: /repos/AndreasAnemyrLNU/1dv607 (Caused by SSLError(SSLEOFError(8, '[SSL: UNEXPECTED_EOF_WHILE_READING] EOF occurred in violation of protocol (_ssl.c:1006)')))\n",
      "Error: HTTPSConnectionPool(host='api.github.com', port=443): Max retries exceeded with url: /repos/AmerNass/Nuit-de-L-info-2014 (Caused by SSLError(SSLEOFError(8, '[SSL: UNEXPECTED_EOF_WHILE_READING] EOF occurred in violation of protocol (_ssl.c:1006)')))\n",
      "Error: HTTPSConnectionPool(host='api.github.com', port=443): Max retries exceeded with url: /repos/ananas-project/blueprint (Caused by SSLError(SSLEOFError(8, '[SSL: UNEXPECTED_EOF_WHILE_READING] EOF occurred in violation of protocol (_ssl.c:1006)')))\n",
      "Error: HTTPSConnectionPool(host='api.github.com', port=443): Max retries exceeded with url: /repos/Ambienta2MX/ambienta2mx.github.io (Caused by SSLError(SSLEOFError(8, '[SSL: UNEXPECTED_EOF_WHILE_READING] EOF occurred in violation of protocol (_ssl.c:1006)')))\n",
      "Error: HTTPSConnectionPool(host='api.github.com', port=443): Max retries exceeded with url: /repos/ampie/pavanecce (Caused by SSLError(SSLEOFError(8, '[SSL: UNEXPECTED_EOF_WHILE_READING] EOF occurred in violation of protocol (_ssl.c:1006)')))\n",
      "Error: HTTPSConnectionPool(host='api.github.com', port=443): Max retries exceeded with url: /repos/amn/uio-inf1050-s13-oblig2 (Caused by SSLError(SSLEOFError(8, '[SSL: UNEXPECTED_EOF_WHILE_READING] EOF occurred in violation of protocol (_ssl.c:1006)')))\n",
      "Error: HTTPSConnectionPool(host='api.github.com', port=443): Max retries exceeded with url: /repos/anchavesb/unimelb (Caused by SSLError(SSLEOFError(8, '[SSL: UNEXPECTED_EOF_WHILE_READING] EOF occurred in violation of protocol (_ssl.c:1006)')))\n",
      "Error: HTTPSConnectionPool(host='api.github.com', port=443): Max retries exceeded with url: /repos/amethyst86/HW8 (Caused by SSLError(SSLEOFError(8, '[SSL: UNEXPECTED_EOF_WHILE_READING] EOF occurred in violation of protocol (_ssl.c:1006)')))\n",
      "Error: HTTPSConnectionPool(host='api.github.com', port=443): Max retries exceeded with url: /repos/AndreasAnemyrLNU/iwish (Caused by SSLError(SSLEOFError(8, '[SSL: UNEXPECTED_EOF_WHILE_READING] EOF occurred in violation of protocol (_ssl.c:1006)')))\n"
     ]
    },
    {
     "name": "stderr",
     "output_type": "stream",
     "text": [
      "  4%|▍         | 1000/24730 [04:57<54:04,  7.31it/s]"
     ]
    },
    {
     "name": "stdout",
     "output_type": "stream",
     "text": [
      "Error: HTTPSConnectionPool(host='api.github.com', port=443): Max retries exceeded with url: /repos/AnaTeresaQR/EjerciciosUML (Caused by SSLError(SSLEOFError(8, '[SSL: UNEXPECTED_EOF_WHILE_READING] EOF occurred in violation of protocol (_ssl.c:1006)')))\n",
      "Error: HTTPSConnectionPool(host='api.github.com', port=443): Max retries exceeded with url: /repos/ambarket/comp524Website (Caused by SSLError(SSLEOFError(8, '[SSL: UNEXPECTED_EOF_WHILE_READING] EOF occurred in violation of protocol (_ssl.c:1006)')))\n",
      "Error: HTTPSConnectionPool(host='api.github.com', port=443): Max retries exceeded with url: /repos/andreafiori/programming-exercises (Caused by SSLError(SSLEOFError(8, '[SSL: UNEXPECTED_EOF_WHILE_READING] EOF occurred in violation of protocol (_ssl.c:1006)')))\n",
      "Error: HTTPSConnectionPool(host='api.github.com', port=443): Max retries exceeded with url: /repos/andreluizlunelli/CatalogoPadroesDeProjeto (Caused by SSLError(SSLEOFError(8, '[SSL: UNEXPECTED_EOF_WHILE_READING] EOF occurred in violation of protocol (_ssl.c:1006)')))\n",
      "Error: HTTPSConnectionPool(host='api.github.com', port=443): Max retries exceeded with url: /repos/amarraja123/IdeaProjects (Caused by SSLError(SSLEOFError(8, '[SSL: UNEXPECTED_EOF_WHILE_READING] EOF occurred in violation of protocol (_ssl.c:1006)')))\n",
      "Error: HTTPSConnectionPool(host='api.github.com', port=443): Max retries exceeded with url: /repos/amiq-consulting/svaunit (Caused by SSLError(SSLEOFError(8, '[SSL: UNEXPECTED_EOF_WHILE_READING] EOF occurred in violation of protocol (_ssl.c:1006)')))\n",
      "Error: HTTPSConnectionPool(host='api.github.com', port=443): Max retries exceeded with url: /repos/andreishabanski/Labs (Caused by SSLError(SSLEOFError(8, '[SSL: UNEXPECTED_EOF_WHILE_READING] EOF occurred in violation of protocol (_ssl.c:1006)')))\n"
     ]
    },
    {
     "name": "stderr",
     "output_type": "stream",
     "text": [
      "  4%|▍         | 1011/24730 [05:05<1:31:14,  4.33it/s]"
     ]
    },
    {
     "name": "stdout",
     "output_type": "stream",
     "text": [
      "Error: HTTPSConnectionPool(host='api.github.com', port=443): Max retries exceeded with url: /repos/andrescabrera/batallaPokemon (Caused by SSLError(SSLEOFError(8, '[SSL: UNEXPECTED_EOF_WHILE_READING] EOF occurred in violation of protocol (_ssl.c:1006)')))\n",
      "Error: HTTPSConnectionPool(host='api.github.com', port=443): Max retries exceeded with url: /repos/ambush276/rifle (Caused by SSLError(SSLEOFError(8, '[SSL: UNEXPECTED_EOF_WHILE_READING] EOF occurred in violation of protocol (_ssl.c:1006)')))\n",
      "Error: HTTPSConnectionPool(host='api.github.com', port=443): Max retries exceeded with url: /repos/andreimanu/CAH (Caused by SSLError(SSLEOFError(8, '[SSL: UNEXPECTED_EOF_WHILE_READING] EOF occurred in violation of protocol (_ssl.c:1006)')))\n",
      "Error: HTTPSConnectionPool(host='api.github.com', port=443): Max retries exceeded with url: /repos/ananelson/dexy-experiments (Caused by SSLError(SSLEOFError(8, '[SSL: UNEXPECTED_EOF_WHILE_READING] EOF occurred in violation of protocol (_ssl.c:1006)')))\n",
      "Error: HTTPSConnectionPool(host='api.github.com', port=443): Max retries exceeded with url: /repos/AndreiDuma/marble (Caused by SSLError(SSLEOFError(8, '[SSL: UNEXPECTED_EOF_WHILE_READING] EOF occurred in violation of protocol (_ssl.c:1006)')))\n",
      "Error: HTTPSConnectionPool(host='api.github.com', port=443): Max retries exceeded with url: /repos/andrey9594/kate-andrew-service-project (Caused by SSLError(SSLEOFError(8, '[SSL: UNEXPECTED_EOF_WHILE_READING] EOF occurred in violation of protocol (_ssl.c:1006)')))\n"
     ]
    },
    {
     "name": "stderr",
     "output_type": "stream",
     "text": [
      "  4%|▍         | 1022/24730 [05:14<2:15:08,  2.92it/s]"
     ]
    },
    {
     "name": "stdout",
     "output_type": "stream",
     "text": [
      "Error: HTTPSConnectionPool(host='api.github.com', port=443): Max retries exceeded with url: /repos/amfirmo/WebStore (Caused by SSLError(SSLEOFError(8, '[SSL: UNEXPECTED_EOF_WHILE_READING] EOF occurred in violation of protocol (_ssl.c:1006)')))\n",
      "Error: HTTPSConnectionPool(host='api.github.com', port=443): Max retries exceeded with url: /repos/Andrwyw/Andrwyw.github.io (Caused by SSLError(SSLEOFError(8, '[SSL: UNEXPECTED_EOF_WHILE_READING] EOF occurred in violation of protocol (_ssl.c:1006)')))\n",
      "Error: HTTPSConnectionPool(host='api.github.com', port=443): Max retries exceeded with url: /repos/AndroidDevWeekly/AndroidDoc (Caused by SSLError(SSLEOFError(8, '[SSL: UNEXPECTED_EOF_WHILE_READING] EOF occurred in violation of protocol (_ssl.c:1006)')))\n",
      "Error: HTTPSConnectionPool(host='api.github.com', port=443): Max retries exceeded with url: /repos/andreasnovian/ChipsChallenge (Caused by SSLError(SSLEOFError(8, '[SSL: UNEXPECTED_EOF_WHILE_READING] EOF occurred in violation of protocol (_ssl.c:1006)')))\n"
     ]
    },
    {
     "name": "stderr",
     "output_type": "stream",
     "text": [
      "  4%|▍         | 1091/24730 [05:24<1:27:28,  4.50it/s]"
     ]
    },
    {
     "name": "stdout",
     "output_type": "stream",
     "text": [
      "Error: HTTPSConnectionPool(host='api.github.com', port=443): Max retries exceeded with url: /repos/androm3da/clang_sles (Caused by SSLError(SSLEOFError(8, '[SSL: UNEXPECTED_EOF_WHILE_READING] EOF occurred in violation of protocol (_ssl.c:1006)')))\n",
      "Error: HTTPSConnectionPool(host='api.github.com', port=443): Max retries exceeded with url: /repos/AncelA/TPAssignment (Caused by SSLError(SSLEOFError(8, '[SSL: UNEXPECTED_EOF_WHILE_READING] EOF occurred in violation of protocol (_ssl.c:1006)')))\n",
      "Error: HTTPSConnectionPool(host='api.github.com', port=443): Max retries exceeded with url: /repos/andromedarabbit/earlgrey (Caused by SSLError(SSLEOFError(8, '[SSL: UNEXPECTED_EOF_WHILE_READING] EOF occurred in violation of protocol (_ssl.c:1006)')))\n"
     ]
    },
    {
     "name": "stderr",
     "output_type": "stream",
     "text": [
      "  4%|▍         | 1093/24730 [05:25<1:32:11,  4.27it/s]"
     ]
    },
    {
     "name": "stdout",
     "output_type": "stream",
     "text": [
      "Error: HTTPSConnectionPool(host='api.github.com', port=443): Max retries exceeded with url: /repos/anestis27/carWash (Caused by SSLError(SSLEOFError(8, '[SSL: UNEXPECTED_EOF_WHILE_READING] EOF occurred in violation of protocol (_ssl.c:1006)')))\n"
     ]
    },
    {
     "name": "stderr",
     "output_type": "stream",
     "text": [
      "  5%|▍         | 1140/24730 [05:29<50:54,  7.72it/s]  "
     ]
    },
    {
     "name": "stdout",
     "output_type": "stream",
     "text": [
      "Error: HTTPSConnectionPool(host='api.github.com', port=443): Max retries exceeded with url: /repos/andreaswolf/oryx-editor (Caused by SSLError(SSLEOFError(8, '[SSL: UNEXPECTED_EOF_WHILE_READING] EOF occurred in violation of protocol (_ssl.c:1006)')))\n",
      "Error: HTTPSConnectionPool(host='api.github.com', port=443): Max retries exceeded with url: /repos/AnnaZot/Warply-Project (Caused by SSLError(SSLEOFError(8, '[SSL: UNEXPECTED_EOF_WHILE_READING] EOF occurred in violation of protocol (_ssl.c:1006)')))\n"
     ]
    },
    {
     "name": "stderr",
     "output_type": "stream",
     "text": [
      "  5%|▍         | 1149/24730 [05:35<1:23:19,  4.72it/s]"
     ]
    },
    {
     "name": "stdout",
     "output_type": "stream",
     "text": [
      "Error: HTTPSConnectionPool(host='api.github.com', port=443): Max retries exceeded with url: /repos/ankit4u3/continuity1test (Caused by SSLError(SSLEOFError(8, '[SSL: UNEXPECTED_EOF_WHILE_READING] EOF occurred in violation of protocol (_ssl.c:1006)')))\n",
      "Error: HTTPSConnectionPool(host='api.github.com', port=443): Max retries exceeded with url: /repos/AndreiArion/andreiarion.github.io (Caused by SSLError(SSLEOFError(8, '[SSL: UNEXPECTED_EOF_WHILE_READING] EOF occurred in violation of protocol (_ssl.c:1006)')))\n",
      "Error: HTTPSConnectionPool(host='api.github.com', port=443): Max retries exceeded with url: /repos/androidhuoniao/gps: (Caused by SSLError(SSLEOFError(8, '[SSL: UNEXPECTED_EOF_WHILE_READING] EOF occurred in violation of protocol (_ssl.c:1006)')))\n",
      "Error: HTTPSConnectionPool(host='api.github.com', port=443): Max retries exceeded with url: /repos/anheru88/Pattern-Adapter-C-Sharp (Caused by SSLError(SSLEOFError(8, '[SSL: UNEXPECTED_EOF_WHILE_READING] EOF occurred in violation of protocol (_ssl.c:1006)')))\n"
     ]
    },
    {
     "name": "stderr",
     "output_type": "stream",
     "text": [
      "  5%|▍         | 1150/24730 [05:35<1:24:05,  4.67it/s]"
     ]
    },
    {
     "name": "stdout",
     "output_type": "stream",
     "text": [
      "Error: HTTPSConnectionPool(host='api.github.com', port=443): Max retries exceeded with url: /repos/AndyNortrup/TweetHarvest (Caused by SSLError(SSLEOFError(8, '[SSL: UNEXPECTED_EOF_WHILE_READING] EOF occurred in violation of protocol (_ssl.c:1006)')))\n",
      "Error: HTTPSConnectionPool(host='api.github.com', port=443): Max retries exceeded with url: /repos/AnnithaRamesh/Sample1 (Caused by SSLError(SSLEOFError(8, '[SSL: UNEXPECTED_EOF_WHILE_READING] EOF occurred in violation of protocol (_ssl.c:1006)')))\n",
      "Error: HTTPSConnectionPool(host='api.github.com', port=443): Max retries exceeded with url: /repos/Anne081031/WinParkUI (Caused by SSLError(SSLEOFError(8, '[SSL: UNEXPECTED_EOF_WHILE_READING] EOF occurred in violation of protocol (_ssl.c:1006)')))\n",
      "Error: HTTPSConnectionPool(host='api.github.com', port=443): Max retries exceeded with url: /repos/ankerbachryhl/Design-Code (Caused by SSLError(SSLEOFError(8, '[SSL: UNEXPECTED_EOF_WHILE_READING] EOF occurred in violation of protocol (_ssl.c:1006)')))\n",
      "Error: HTTPSConnectionPool(host='api.github.com', port=443): Max retries exceeded with url: /repos/AnnMalofeeva/Sudoku (Caused by SSLError(SSLEOFError(8, '[SSL: UNEXPECTED_EOF_WHILE_READING] EOF occurred in violation of protocol (_ssl.c:1006)')))\n",
      "Error: HTTPSConnectionPool(host='api.github.com', port=443): Max retries exceeded with url: /repos/Angtrim/se2-project-ega (Caused by SSLError(SSLEOFError(8, '[SSL: UNEXPECTED_EOF_WHILE_READING] EOF occurred in violation of protocol (_ssl.c:1006)')))\n",
      "Error: HTTPSConnectionPool(host='api.github.com', port=443): Max retries exceeded with url: /repos/angel46/project-munchkin (Caused by SSLError(SSLEOFError(8, '[SSL: UNEXPECTED_EOF_WHILE_READING] EOF occurred in violation of protocol (_ssl.c:1006)')))\n",
      "Error: HTTPSConnectionPool(host='api.github.com', port=443): Max retries exceeded with url: /repos/andrzejsydor/ocejwsd (Caused by SSLError(SSLEOFError(8, '[SSL: UNEXPECTED_EOF_WHILE_READING] EOF occurred in violation of protocol (_ssl.c:1006)')))\n",
      "Error: HTTPSConnectionPool(host='api.github.com', port=443): Max retries exceeded with url: /repos/annuraju/TaskScheduler (Caused by SSLError(SSLEOFError(8, '[SSL: UNEXPECTED_EOF_WHILE_READING] EOF occurred in violation of protocol (_ssl.c:1006)')))\n"
     ]
    },
    {
     "name": "stderr",
     "output_type": "stream",
     "text": [
      "  5%|▍         | 1228/24730 [05:36<1:47:24,  3.65it/s]\n"
     ]
    },
    {
     "name": "stdout",
     "output_type": "stream",
     "text": [
      "Error: HTTPSConnectionPool(host='api.github.com', port=443): Max retries exceeded with url: /repos/animatedb/oovaide (Caused by SSLError(SSLEOFError(8, '[SSL: UNEXPECTED_EOF_WHILE_READING] EOF occurred in violation of protocol (_ssl.c:1006)')))\n",
      "Error: HTTPSConnectionPool(host='api.github.com', port=443): Max retries exceeded with url: /repos/anhphamkstn/BKI_DVMC (Caused by SSLError(SSLEOFError(8, '[SSL: UNEXPECTED_EOF_WHILE_READING] EOF occurred in violation of protocol (_ssl.c:1006)')))\n",
      "Error: HTTPSConnectionPool(host='api.github.com', port=443): Max retries exceeded with url: /repos/aniloc111/CompilerProject (Caused by SSLError(SSLEOFError(8, '[SSL: UNEXPECTED_EOF_WHILE_READING] EOF occurred in violation of protocol (_ssl.c:1006)')))\n",
      "Error: HTTPSConnectionPool(host='api.github.com', port=443): Max retries exceeded with url: /repos/anshimagupta/JSPHPDEV (Caused by SSLError(SSLEOFError(8, '[SSL: UNEXPECTED_EOF_WHILE_READING] EOF occurred in violation of protocol (_ssl.c:1006)')))\n",
      "Error: HTTPSConnectionPool(host='api.github.com', port=443): Max retries exceeded with url: /repos/anobin/3DMagic (Caused by SSLError(SSLEOFError(8, '[SSL: UNEXPECTED_EOF_WHILE_READING] EOF occurred in violation of protocol (_ssl.c:1006)')))\n",
      "Error: HTTPSConnectionPool(host='api.github.com', port=443): Max retries exceeded with url: /repos/angelala00/icrawler (Caused by SSLError(SSLEOFError(8, '[SSL: UNEXPECTED_EOF_WHILE_READING] EOF occurred in violation of protocol (_ssl.c:1006)')))\n",
      "Error: HTTPSConnectionPool(host='api.github.com', port=443): Max retries exceeded with url: /repos/annguyenit/fable.local (Caused by SSLError(SSLEOFError(8, '[SSL: UNEXPECTED_EOF_WHILE_READING] EOF occurred in violation of protocol (_ssl.c:1006)')))\n",
      "Error: HTTPSConnectionPool(host='api.github.com', port=443): Max retries exceeded with url: /repos/anheru88/Pattern-Strategy-Java (Caused by SSLError(SSLEOFError(8, '[SSL: UNEXPECTED_EOF_WHILE_READING] EOF occurred in violation of protocol (_ssl.c:1006)')))\n",
      "Error: HTTPSConnectionPool(host='api.github.com', port=443): Max retries exceeded with url: /repos/annashunko/WorldQuiz (Caused by SSLError(SSLEOFError(8, '[SSL: UNEXPECTED_EOF_WHILE_READING] EOF occurred in violation of protocol (_ssl.c:1006)')))\n",
      "Error: HTTPSConnectionPool(host='api.github.com', port=443): Max retries exceeded with url: /repos/animesks/projects (Caused by SSLError(SSLEOFError(8, '[SSL: UNEXPECTED_EOF_WHILE_READING] EOF occurred in violation of protocol (_ssl.c:1006)')))\n",
      "Error: HTTPSConnectionPool(host='api.github.com', port=443): Max retries exceeded with url: /repos/anonymvs/BubbleGame (Caused by SSLError(SSLEOFError(8, '[SSL: UNEXPECTED_EOF_WHILE_READING] EOF occurred in violation of protocol (_ssl.c:1006)')))\n",
      "Error: HTTPSConnectionPool(host='api.github.com', port=443): Max retries exceeded with url: /repos/annbigbig/java_memo (Caused by SSLError(SSLEOFError(8, '[SSL: UNEXPECTED_EOF_WHILE_READING] EOF occurred in violation of protocol (_ssl.c:1006)')))\n",
      "Error: HTTPSConnectionPool(host='api.github.com', port=443): Max retries exceeded with url: /repos/Anpix/SGCD (Caused by SSLError(SSLEOFError(8, '[SSL: UNEXPECTED_EOF_WHILE_READING] EOF occurred in violation of protocol (_ssl.c:1006)')))\n"
     ]
    }
   ],
   "source": [
    "full_repo_df = add_repo_exist(full_repo_df)"
   ]
  },
  {
   "cell_type": "code",
   "execution_count": null,
   "metadata": {},
   "outputs": [],
   "source": [
    "full_repo_df = full_repo_df[full_repo_df['Exists']]\n",
    "full_repo_df.to_csv('full_repo_df.csv', index=False)"
   ]
  },
  {
   "cell_type": "code",
   "execution_count": null,
   "metadata": {},
   "outputs": [],
   "source": [
    "full_repo_df.head()"
   ]
  },
  {
   "cell_type": "code",
   "execution_count": null,
   "metadata": {},
   "outputs": [
    {
     "data": {
      "text/html": [
       "<div>\n",
       "<style scoped>\n",
       "    .dataframe tbody tr th:only-of-type {\n",
       "        vertical-align: middle;\n",
       "    }\n",
       "\n",
       "    .dataframe tbody tr th {\n",
       "        vertical-align: top;\n",
       "    }\n",
       "\n",
       "    .dataframe thead th {\n",
       "        text-align: right;\n",
       "    }\n",
       "</style>\n",
       "<table border=\"1\" class=\"dataframe\">\n",
       "  <thead>\n",
       "    <tr style=\"text-align: right;\">\n",
       "      <th></th>\n",
       "      <th>Project</th>\n",
       "      <th>Stargazers</th>\n",
       "    </tr>\n",
       "  </thead>\n",
       "  <tbody>\n",
       "    <tr>\n",
       "      <th>24725</th>\n",
       "      <td>vectorxiang/vectorxiang.github.io/</td>\n",
       "      <td>2</td>\n",
       "    </tr>\n",
       "    <tr>\n",
       "      <th>24726</th>\n",
       "      <td>victorsndvg/FPL/</td>\n",
       "      <td>30</td>\n",
       "    </tr>\n",
       "    <tr>\n",
       "      <th>24727</th>\n",
       "      <td>wmde/FundraisingFrontend/</td>\n",
       "      <td>145</td>\n",
       "    </tr>\n",
       "    <tr>\n",
       "      <th>24728</th>\n",
       "      <td>yotomyoto/301_assignment1/</td>\n",
       "      <td>0</td>\n",
       "    </tr>\n",
       "    <tr>\n",
       "      <th>24729</th>\n",
       "      <td>zeronero13/happehardver/</td>\n",
       "      <td>0</td>\n",
       "    </tr>\n",
       "  </tbody>\n",
       "</table>\n",
       "</div>"
      ],
      "text/plain": [
       "                                  Project  Stargazers\n",
       "24725  vectorxiang/vectorxiang.github.io/           2\n",
       "24726                    victorsndvg/FPL/          30\n",
       "24727           wmde/FundraisingFrontend/         145\n",
       "24728          yotomyoto/301_assignment1/           0\n",
       "24729            zeronero13/happehardver/           0"
      ]
     },
     "execution_count": 10,
     "metadata": {},
     "output_type": "execute_result"
    }
   ],
   "source": [
    "full_repo_df.tail()"
   ]
  },
  {
   "cell_type": "markdown",
   "metadata": {},
   "source": [
    "### Get GH projects with UML files"
   ]
  },
  {
   "cell_type": "code",
   "execution_count": 31,
   "metadata": {},
   "outputs": [],
   "source": [
    "import requests\n",
    "import pandas as pd\n",
    "\n",
    "def get_repos_with_uml_files():\n",
    "\n",
    "    headers = {\n",
    "    \"Accept\": \"application/vnd.github+json\",\n",
    "    \"Authorization\": f\"Bearer {GH_TOKEN}\",\n",
    "    \"X-GitHub-Api-Version\": \"2022-11-28\"}\n",
    " \n",
    "    ctr = 1\n",
    "\n",
    "    repo_list = []\n",
    "\n",
    "    url = \"https://api.github.com/search/repositories?q=language:Java&stars:>=1000&per_page:100\"\n",
    "    \n",
    "    response = requests.get(url, headers=headers)\n",
    "\n",
    "    print(f\"Total results: {response.json()['total_count']}\")\n",
    "\n",
    "    return response.json()\n",
    "\n",
    "    if response.json()['total_count'] == 0:\n",
    "        return repo_list\n",
    "\n",
    "    print(\"1000 results max. Retrieving...\")\n",
    "\n",
    "    while response.status_code == 200:\n",
    "\n",
    "        if not response.json()['items']:\n",
    "            print(response.json())\n",
    "            print(\"No more results. Exiting...\")\n",
    "            break\n",
    "\n",
    "        for repo in response.json()['items']:\n",
    "            repo_list.append(repo)\n",
    "\n",
    "        print(f\"Total repos retrieved: {len(repo_list)}\")\n",
    "\n",
    "        ctr += 1\n",
    "\n",
    "        if 'next' not in response.links:\n",
    "            print(\"No more results. Exiting...\")\n",
    "            break\n",
    "\n",
    "        next_url = response.links['next']['url']\n",
    "\n",
    "        response = requests.get(next_url, headers=headers)\n",
    "    \n",
    "    return repo_list"
   ]
  },
  {
   "cell_type": "code",
   "execution_count": 32,
   "metadata": {},
   "outputs": [
    {
     "name": "stdout",
     "output_type": "stream",
     "text": [
      "Total results: 17014719\n"
     ]
    }
   ],
   "source": [
    "uml_repos = get_repos_with_uml_files()"
   ]
  },
  {
   "cell_type": "code",
   "execution_count": 35,
   "metadata": {},
   "outputs": [
    {
     "data": {
      "text/html": [
       "<div>\n",
       "<style scoped>\n",
       "    .dataframe tbody tr th:only-of-type {\n",
       "        vertical-align: middle;\n",
       "    }\n",
       "\n",
       "    .dataframe tbody tr th {\n",
       "        vertical-align: top;\n",
       "    }\n",
       "\n",
       "    .dataframe thead th {\n",
       "        text-align: right;\n",
       "    }\n",
       "</style>\n",
       "<table border=\"1\" class=\"dataframe\">\n",
       "  <thead>\n",
       "    <tr style=\"text-align: right;\">\n",
       "      <th></th>\n",
       "      <th>id</th>\n",
       "      <th>node_id</th>\n",
       "      <th>name</th>\n",
       "      <th>full_name</th>\n",
       "      <th>private</th>\n",
       "      <th>owner</th>\n",
       "      <th>html_url</th>\n",
       "      <th>description</th>\n",
       "      <th>fork</th>\n",
       "      <th>url</th>\n",
       "      <th>...</th>\n",
       "      <th>is_template</th>\n",
       "      <th>web_commit_signoff_required</th>\n",
       "      <th>topics</th>\n",
       "      <th>visibility</th>\n",
       "      <th>forks</th>\n",
       "      <th>open_issues</th>\n",
       "      <th>watchers</th>\n",
       "      <th>default_branch</th>\n",
       "      <th>permissions</th>\n",
       "      <th>score</th>\n",
       "    </tr>\n",
       "  </thead>\n",
       "  <tbody>\n",
       "    <tr>\n",
       "      <th>0</th>\n",
       "      <td>132464395</td>\n",
       "      <td>MDEwOlJlcG9zaXRvcnkxMzI0NjQzOTU=</td>\n",
       "      <td>JavaGuide</td>\n",
       "      <td>Snailclimb/JavaGuide</td>\n",
       "      <td>False</td>\n",
       "      <td>{'login': 'Snailclimb', 'id': 29880145, 'node_...</td>\n",
       "      <td>https://github.com/Snailclimb/JavaGuide</td>\n",
       "      <td>「Java学习+面试指南」一份涵盖大部分 Java 程序员所需要掌握的核心知识。准备 Jav...</td>\n",
       "      <td>False</td>\n",
       "      <td>https://api.github.com/repos/Snailclimb/JavaGuide</td>\n",
       "      <td>...</td>\n",
       "      <td>False</td>\n",
       "      <td>False</td>\n",
       "      <td>[algorithms, interview, java, jvm, mysql, redi...</td>\n",
       "      <td>public</td>\n",
       "      <td>45536</td>\n",
       "      <td>69</td>\n",
       "      <td>146314</td>\n",
       "      <td>main</td>\n",
       "      <td>{'admin': False, 'maintain': False, 'push': Fa...</td>\n",
       "      <td>1.0</td>\n",
       "    </tr>\n",
       "    <tr>\n",
       "      <th>1</th>\n",
       "      <td>206462776</td>\n",
       "      <td>MDEwOlJlcG9zaXRvcnkyMDY0NjI3NzY=</td>\n",
       "      <td>GitHub-Chinese-Top-Charts</td>\n",
       "      <td>GrowingGit/GitHub-Chinese-Top-Charts</td>\n",
       "      <td>False</td>\n",
       "      <td>{'login': 'GrowingGit', 'id': 21018904, 'node_...</td>\n",
       "      <td>https://github.com/GrowingGit/GitHub-Chinese-T...</td>\n",
       "      <td>:cn: GitHub中文排行榜，各语言分设「软件 | 资料」榜单，精准定位中文好项目。各取...</td>\n",
       "      <td>False</td>\n",
       "      <td>https://api.github.com/repos/GrowingGit/GitHub...</td>\n",
       "      <td>...</td>\n",
       "      <td>False</td>\n",
       "      <td>False</td>\n",
       "      <td>[]</td>\n",
       "      <td>public</td>\n",
       "      <td>13144</td>\n",
       "      <td>189</td>\n",
       "      <td>99618</td>\n",
       "      <td>master</td>\n",
       "      <td>{'admin': False, 'maintain': False, 'push': Fa...</td>\n",
       "      <td>1.0</td>\n",
       "    </tr>\n",
       "    <tr>\n",
       "      <th>2</th>\n",
       "      <td>561730219</td>\n",
       "      <td>R_kgDOIXtSqw</td>\n",
       "      <td>hello-algo</td>\n",
       "      <td>krahets/hello-algo</td>\n",
       "      <td>False</td>\n",
       "      <td>{'login': 'krahets', 'id': 26993056, 'node_id'...</td>\n",
       "      <td>https://github.com/krahets/hello-algo</td>\n",
       "      <td>《Hello 算法》：动画图解、一键运行的数据结构与算法教程。支持 Python, Java...</td>\n",
       "      <td>False</td>\n",
       "      <td>https://api.github.com/repos/krahets/hello-algo</td>\n",
       "      <td>...</td>\n",
       "      <td>False</td>\n",
       "      <td>False</td>\n",
       "      <td>[algo, algorithm, algorithms, book, data-struc...</td>\n",
       "      <td>public</td>\n",
       "      <td>12216</td>\n",
       "      <td>14</td>\n",
       "      <td>96351</td>\n",
       "      <td>main</td>\n",
       "      <td>{'admin': False, 'maintain': False, 'push': Fa...</td>\n",
       "      <td>1.0</td>\n",
       "    </tr>\n",
       "    <tr>\n",
       "      <th>3</th>\n",
       "      <td>22790488</td>\n",
       "      <td>MDEwOlJlcG9zaXRvcnkyMjc5MDQ4OA==</td>\n",
       "      <td>java-design-patterns</td>\n",
       "      <td>iluwatar/java-design-patterns</td>\n",
       "      <td>False</td>\n",
       "      <td>{'login': 'iluwatar', 'id': 582346, 'node_id':...</td>\n",
       "      <td>https://github.com/iluwatar/java-design-patterns</td>\n",
       "      <td>Design patterns implemented in Java</td>\n",
       "      <td>False</td>\n",
       "      <td>https://api.github.com/repos/iluwatar/java-des...</td>\n",
       "      <td>...</td>\n",
       "      <td>False</td>\n",
       "      <td>False</td>\n",
       "      <td>[awesome-list, design-patterns, hacktoberfest,...</td>\n",
       "      <td>public</td>\n",
       "      <td>26507</td>\n",
       "      <td>157</td>\n",
       "      <td>89628</td>\n",
       "      <td>master</td>\n",
       "      <td>{'admin': False, 'maintain': False, 'push': Fa...</td>\n",
       "      <td>1.0</td>\n",
       "    </tr>\n",
       "    <tr>\n",
       "      <th>4</th>\n",
       "      <td>127988011</td>\n",
       "      <td>MDEwOlJlcG9zaXRvcnkxMjc5ODgwMTE=</td>\n",
       "      <td>mall</td>\n",
       "      <td>macrozheng/mall</td>\n",
       "      <td>False</td>\n",
       "      <td>{'login': 'macrozheng', 'id': 15903809, 'node_...</td>\n",
       "      <td>https://github.com/macrozheng/mall</td>\n",
       "      <td>mall项目是一套电商系统，包括前台商城系统及后台管理系统，基于SpringBoot+MyB...</td>\n",
       "      <td>False</td>\n",
       "      <td>https://api.github.com/repos/macrozheng/mall</td>\n",
       "      <td>...</td>\n",
       "      <td>False</td>\n",
       "      <td>False</td>\n",
       "      <td>[docker, elasticsearch, elk, java, mongodb, my...</td>\n",
       "      <td>public</td>\n",
       "      <td>28743</td>\n",
       "      <td>19</td>\n",
       "      <td>77583</td>\n",
       "      <td>master</td>\n",
       "      <td>{'admin': False, 'maintain': False, 'push': Fa...</td>\n",
       "      <td>1.0</td>\n",
       "    </tr>\n",
       "  </tbody>\n",
       "</table>\n",
       "<p>5 rows × 81 columns</p>\n",
       "</div>"
      ],
      "text/plain": [
       "          id                           node_id                       name  \\\n",
       "0  132464395  MDEwOlJlcG9zaXRvcnkxMzI0NjQzOTU=                  JavaGuide   \n",
       "1  206462776  MDEwOlJlcG9zaXRvcnkyMDY0NjI3NzY=  GitHub-Chinese-Top-Charts   \n",
       "2  561730219                      R_kgDOIXtSqw                 hello-algo   \n",
       "3   22790488  MDEwOlJlcG9zaXRvcnkyMjc5MDQ4OA==       java-design-patterns   \n",
       "4  127988011  MDEwOlJlcG9zaXRvcnkxMjc5ODgwMTE=                       mall   \n",
       "\n",
       "                              full_name  private  \\\n",
       "0                  Snailclimb/JavaGuide    False   \n",
       "1  GrowingGit/GitHub-Chinese-Top-Charts    False   \n",
       "2                    krahets/hello-algo    False   \n",
       "3         iluwatar/java-design-patterns    False   \n",
       "4                       macrozheng/mall    False   \n",
       "\n",
       "                                               owner  \\\n",
       "0  {'login': 'Snailclimb', 'id': 29880145, 'node_...   \n",
       "1  {'login': 'GrowingGit', 'id': 21018904, 'node_...   \n",
       "2  {'login': 'krahets', 'id': 26993056, 'node_id'...   \n",
       "3  {'login': 'iluwatar', 'id': 582346, 'node_id':...   \n",
       "4  {'login': 'macrozheng', 'id': 15903809, 'node_...   \n",
       "\n",
       "                                            html_url  \\\n",
       "0            https://github.com/Snailclimb/JavaGuide   \n",
       "1  https://github.com/GrowingGit/GitHub-Chinese-T...   \n",
       "2              https://github.com/krahets/hello-algo   \n",
       "3   https://github.com/iluwatar/java-design-patterns   \n",
       "4                 https://github.com/macrozheng/mall   \n",
       "\n",
       "                                         description   fork  \\\n",
       "0  「Java学习+面试指南」一份涵盖大部分 Java 程序员所需要掌握的核心知识。准备 Jav...  False   \n",
       "1  :cn: GitHub中文排行榜，各语言分设「软件 | 资料」榜单，精准定位中文好项目。各取...  False   \n",
       "2  《Hello 算法》：动画图解、一键运行的数据结构与算法教程。支持 Python, Java...  False   \n",
       "3                Design patterns implemented in Java  False   \n",
       "4  mall项目是一套电商系统，包括前台商城系统及后台管理系统，基于SpringBoot+MyB...  False   \n",
       "\n",
       "                                                 url  ... is_template  \\\n",
       "0  https://api.github.com/repos/Snailclimb/JavaGuide  ...       False   \n",
       "1  https://api.github.com/repos/GrowingGit/GitHub...  ...       False   \n",
       "2    https://api.github.com/repos/krahets/hello-algo  ...       False   \n",
       "3  https://api.github.com/repos/iluwatar/java-des...  ...       False   \n",
       "4       https://api.github.com/repos/macrozheng/mall  ...       False   \n",
       "\n",
       "  web_commit_signoff_required  \\\n",
       "0                       False   \n",
       "1                       False   \n",
       "2                       False   \n",
       "3                       False   \n",
       "4                       False   \n",
       "\n",
       "                                              topics visibility  forks  \\\n",
       "0  [algorithms, interview, java, jvm, mysql, redi...     public  45536   \n",
       "1                                                 []     public  13144   \n",
       "2  [algo, algorithm, algorithms, book, data-struc...     public  12216   \n",
       "3  [awesome-list, design-patterns, hacktoberfest,...     public  26507   \n",
       "4  [docker, elasticsearch, elk, java, mongodb, my...     public  28743   \n",
       "\n",
       "  open_issues watchers default_branch  \\\n",
       "0          69   146314           main   \n",
       "1         189    99618         master   \n",
       "2          14    96351           main   \n",
       "3         157    89628         master   \n",
       "4          19    77583         master   \n",
       "\n",
       "                                         permissions score  \n",
       "0  {'admin': False, 'maintain': False, 'push': Fa...   1.0  \n",
       "1  {'admin': False, 'maintain': False, 'push': Fa...   1.0  \n",
       "2  {'admin': False, 'maintain': False, 'push': Fa...   1.0  \n",
       "3  {'admin': False, 'maintain': False, 'push': Fa...   1.0  \n",
       "4  {'admin': False, 'maintain': False, 'push': Fa...   1.0  \n",
       "\n",
       "[5 rows x 81 columns]"
      ]
     },
     "execution_count": 35,
     "metadata": {},
     "output_type": "execute_result"
    }
   ],
   "source": [
    "import pandas as pd\n",
    "\n",
    "repo_df = pd.DataFrame(uml_repos)\n",
    "repo_df.head()"
   ]
  },
  {
   "cell_type": "code",
   "execution_count": 36,
   "metadata": {},
   "outputs": [
    {
     "data": {
      "text/html": [
       "<div>\n",
       "<style scoped>\n",
       "    .dataframe tbody tr th:only-of-type {\n",
       "        vertical-align: middle;\n",
       "    }\n",
       "\n",
       "    .dataframe tbody tr th {\n",
       "        vertical-align: top;\n",
       "    }\n",
       "\n",
       "    .dataframe thead th {\n",
       "        text-align: right;\n",
       "    }\n",
       "</style>\n",
       "<table border=\"1\" class=\"dataframe\">\n",
       "  <thead>\n",
       "    <tr style=\"text-align: right;\">\n",
       "      <th></th>\n",
       "      <th>id</th>\n",
       "      <th>node_id</th>\n",
       "      <th>name</th>\n",
       "      <th>full_name</th>\n",
       "      <th>private</th>\n",
       "      <th>owner</th>\n",
       "      <th>html_url</th>\n",
       "      <th>description</th>\n",
       "      <th>fork</th>\n",
       "      <th>url</th>\n",
       "      <th>...</th>\n",
       "      <th>is_template</th>\n",
       "      <th>web_commit_signoff_required</th>\n",
       "      <th>topics</th>\n",
       "      <th>visibility</th>\n",
       "      <th>forks</th>\n",
       "      <th>open_issues</th>\n",
       "      <th>watchers</th>\n",
       "      <th>default_branch</th>\n",
       "      <th>permissions</th>\n",
       "      <th>score</th>\n",
       "    </tr>\n",
       "  </thead>\n",
       "  <tbody>\n",
       "    <tr>\n",
       "      <th>995</th>\n",
       "      <td>15771504</td>\n",
       "      <td>MDEwOlJlcG9zaXRvcnkxNTc3MTUwNA==</td>\n",
       "      <td>librec</td>\n",
       "      <td>guoguibing/librec</td>\n",
       "      <td>False</td>\n",
       "      <td>{'login': 'guoguibing', 'id': 2831759, 'node_i...</td>\n",
       "      <td>https://github.com/guoguibing/librec</td>\n",
       "      <td>LibRec: A Leading Java Library for Recommender...</td>\n",
       "      <td>False</td>\n",
       "      <td>https://api.github.com/repos/guoguibing/librec</td>\n",
       "      <td>...</td>\n",
       "      <td>False</td>\n",
       "      <td>False</td>\n",
       "      <td>[collaborative, collaborative-filtering, facto...</td>\n",
       "      <td>public</td>\n",
       "      <td>1028</td>\n",
       "      <td>81</td>\n",
       "      <td>3237</td>\n",
       "      <td>3.0.0</td>\n",
       "      <td>{'admin': False, 'maintain': False, 'push': Fa...</td>\n",
       "      <td>1.0</td>\n",
       "    </tr>\n",
       "    <tr>\n",
       "      <th>996</th>\n",
       "      <td>42233871</td>\n",
       "      <td>MDEwOlJlcG9zaXRvcnk0MjIzMzg3MQ==</td>\n",
       "      <td>Android-Tips</td>\n",
       "      <td>tangqi92/Android-Tips</td>\n",
       "      <td>False</td>\n",
       "      <td>{'login': 'tangqi92', 'id': 10348598, 'node_id...</td>\n",
       "      <td>https://github.com/tangqi92/Android-Tips</td>\n",
       "      <td>An awesome list of tips for Android.</td>\n",
       "      <td>False</td>\n",
       "      <td>https://api.github.com/repos/tangqi92/Android-...</td>\n",
       "      <td>...</td>\n",
       "      <td>False</td>\n",
       "      <td>False</td>\n",
       "      <td>[android-activity, android-aidl, android-apk, ...</td>\n",
       "      <td>public</td>\n",
       "      <td>832</td>\n",
       "      <td>2</td>\n",
       "      <td>3236</td>\n",
       "      <td>master</td>\n",
       "      <td>{'admin': False, 'maintain': False, 'push': Fa...</td>\n",
       "      <td>1.0</td>\n",
       "    </tr>\n",
       "    <tr>\n",
       "      <th>997</th>\n",
       "      <td>4134560</td>\n",
       "      <td>MDEwOlJlcG9zaXRvcnk0MTM0NTYw</td>\n",
       "      <td>jfinal</td>\n",
       "      <td>jfinal/jfinal</td>\n",
       "      <td>False</td>\n",
       "      <td>{'login': 'jfinal', 'id': 1677603, 'node_id': ...</td>\n",
       "      <td>https://github.com/jfinal/jfinal</td>\n",
       "      <td>JAVA WEB + ORM Framework</td>\n",
       "      <td>False</td>\n",
       "      <td>https://api.github.com/repos/jfinal/jfinal</td>\n",
       "      <td>...</td>\n",
       "      <td>False</td>\n",
       "      <td>False</td>\n",
       "      <td>[]</td>\n",
       "      <td>public</td>\n",
       "      <td>1320</td>\n",
       "      <td>12</td>\n",
       "      <td>3234</td>\n",
       "      <td>master</td>\n",
       "      <td>{'admin': False, 'maintain': False, 'push': Fa...</td>\n",
       "      <td>1.0</td>\n",
       "    </tr>\n",
       "    <tr>\n",
       "      <th>998</th>\n",
       "      <td>42849407</td>\n",
       "      <td>MDEwOlJlcG9zaXRvcnk0Mjg0OTQwNw==</td>\n",
       "      <td>GalleryFinal</td>\n",
       "      <td>pengjianbo/GalleryFinal</td>\n",
       "      <td>False</td>\n",
       "      <td>{'login': 'pengjianbo', 'id': 3264712, 'node_i...</td>\n",
       "      <td>https://github.com/pengjianbo/GalleryFinal</td>\n",
       "      <td>Android自定义相册，实现了拍照、图片选择（单选/多选）、 裁剪（单/多裁剪）、旋转、I...</td>\n",
       "      <td>False</td>\n",
       "      <td>https://api.github.com/repos/pengjianbo/Galler...</td>\n",
       "      <td>...</td>\n",
       "      <td>False</td>\n",
       "      <td>False</td>\n",
       "      <td>[]</td>\n",
       "      <td>public</td>\n",
       "      <td>786</td>\n",
       "      <td>119</td>\n",
       "      <td>3226</td>\n",
       "      <td>master</td>\n",
       "      <td>{'admin': False, 'maintain': False, 'push': Fa...</td>\n",
       "      <td>1.0</td>\n",
       "    </tr>\n",
       "    <tr>\n",
       "      <th>999</th>\n",
       "      <td>5728045</td>\n",
       "      <td>MDEwOlJlcG9zaXRvcnk1NzI4MDQ1</td>\n",
       "      <td>android-saripaar</td>\n",
       "      <td>ragunathjawahar/android-saripaar</td>\n",
       "      <td>False</td>\n",
       "      <td>{'login': 'ragunathjawahar', 'id': 1141970, 'n...</td>\n",
       "      <td>https://github.com/ragunathjawahar/android-sar...</td>\n",
       "      <td>UI form validation library for Android</td>\n",
       "      <td>False</td>\n",
       "      <td>https://api.github.com/repos/ragunathjawahar/a...</td>\n",
       "      <td>...</td>\n",
       "      <td>False</td>\n",
       "      <td>False</td>\n",
       "      <td>[android, java]</td>\n",
       "      <td>public</td>\n",
       "      <td>460</td>\n",
       "      <td>62</td>\n",
       "      <td>3222</td>\n",
       "      <td>master</td>\n",
       "      <td>{'admin': False, 'maintain': False, 'push': Fa...</td>\n",
       "      <td>1.0</td>\n",
       "    </tr>\n",
       "  </tbody>\n",
       "</table>\n",
       "<p>5 rows × 81 columns</p>\n",
       "</div>"
      ],
      "text/plain": [
       "           id                           node_id              name  \\\n",
       "995  15771504  MDEwOlJlcG9zaXRvcnkxNTc3MTUwNA==            librec   \n",
       "996  42233871  MDEwOlJlcG9zaXRvcnk0MjIzMzg3MQ==      Android-Tips   \n",
       "997   4134560      MDEwOlJlcG9zaXRvcnk0MTM0NTYw            jfinal   \n",
       "998  42849407  MDEwOlJlcG9zaXRvcnk0Mjg0OTQwNw==      GalleryFinal   \n",
       "999   5728045      MDEwOlJlcG9zaXRvcnk1NzI4MDQ1  android-saripaar   \n",
       "\n",
       "                            full_name  private  \\\n",
       "995                 guoguibing/librec    False   \n",
       "996             tangqi92/Android-Tips    False   \n",
       "997                     jfinal/jfinal    False   \n",
       "998           pengjianbo/GalleryFinal    False   \n",
       "999  ragunathjawahar/android-saripaar    False   \n",
       "\n",
       "                                                 owner  \\\n",
       "995  {'login': 'guoguibing', 'id': 2831759, 'node_i...   \n",
       "996  {'login': 'tangqi92', 'id': 10348598, 'node_id...   \n",
       "997  {'login': 'jfinal', 'id': 1677603, 'node_id': ...   \n",
       "998  {'login': 'pengjianbo', 'id': 3264712, 'node_i...   \n",
       "999  {'login': 'ragunathjawahar', 'id': 1141970, 'n...   \n",
       "\n",
       "                                              html_url  \\\n",
       "995               https://github.com/guoguibing/librec   \n",
       "996           https://github.com/tangqi92/Android-Tips   \n",
       "997                   https://github.com/jfinal/jfinal   \n",
       "998         https://github.com/pengjianbo/GalleryFinal   \n",
       "999  https://github.com/ragunathjawahar/android-sar...   \n",
       "\n",
       "                                           description   fork  \\\n",
       "995  LibRec: A Leading Java Library for Recommender...  False   \n",
       "996               An awesome list of tips for Android.  False   \n",
       "997                           JAVA WEB + ORM Framework  False   \n",
       "998  Android自定义相册，实现了拍照、图片选择（单选/多选）、 裁剪（单/多裁剪）、旋转、I...  False   \n",
       "999             UI form validation library for Android  False   \n",
       "\n",
       "                                                   url  ... is_template  \\\n",
       "995     https://api.github.com/repos/guoguibing/librec  ...       False   \n",
       "996  https://api.github.com/repos/tangqi92/Android-...  ...       False   \n",
       "997         https://api.github.com/repos/jfinal/jfinal  ...       False   \n",
       "998  https://api.github.com/repos/pengjianbo/Galler...  ...       False   \n",
       "999  https://api.github.com/repos/ragunathjawahar/a...  ...       False   \n",
       "\n",
       "    web_commit_signoff_required  \\\n",
       "995                       False   \n",
       "996                       False   \n",
       "997                       False   \n",
       "998                       False   \n",
       "999                       False   \n",
       "\n",
       "                                                topics visibility forks  \\\n",
       "995  [collaborative, collaborative-filtering, facto...     public  1028   \n",
       "996  [android-activity, android-aidl, android-apk, ...     public   832   \n",
       "997                                                 []     public  1320   \n",
       "998                                                 []     public   786   \n",
       "999                                    [android, java]     public   460   \n",
       "\n",
       "    open_issues watchers default_branch  \\\n",
       "995          81     3237          3.0.0   \n",
       "996           2     3236         master   \n",
       "997          12     3234         master   \n",
       "998         119     3226         master   \n",
       "999          62     3222         master   \n",
       "\n",
       "                                           permissions score  \n",
       "995  {'admin': False, 'maintain': False, 'push': Fa...   1.0  \n",
       "996  {'admin': False, 'maintain': False, 'push': Fa...   1.0  \n",
       "997  {'admin': False, 'maintain': False, 'push': Fa...   1.0  \n",
       "998  {'admin': False, 'maintain': False, 'push': Fa...   1.0  \n",
       "999  {'admin': False, 'maintain': False, 'push': Fa...   1.0  \n",
       "\n",
       "[5 rows x 81 columns]"
      ]
     },
     "execution_count": 36,
     "metadata": {},
     "output_type": "execute_result"
    }
   ],
   "source": [
    "repo_df.tail()"
   ]
  },
  {
   "cell_type": "code",
   "execution_count": 37,
   "metadata": {},
   "outputs": [
    {
     "data": {
      "text/plain": [
       "(1000, 81)"
      ]
     },
     "execution_count": 37,
     "metadata": {},
     "output_type": "execute_result"
    }
   ],
   "source": [
    "repo_df.shape"
   ]
  },
  {
   "cell_type": "code",
   "execution_count": 38,
   "metadata": {},
   "outputs": [],
   "source": [
    "repo_df.to_csv('uml_repos.csv', index=False, encoding='utf-8')"
   ]
  },
  {
   "cell_type": "markdown",
   "metadata": {},
   "source": [
    "### Remove UML tools"
   ]
  },
  {
   "cell_type": "markdown",
   "metadata": {},
   "source": []
  }
 ],
 "metadata": {
  "kernelspec": {
   "display_name": "Python 3",
   "language": "python",
   "name": "python3"
  },
  "language_info": {
   "codemirror_mode": {
    "name": "ipython",
    "version": 3
   },
   "file_extension": ".py",
   "mimetype": "text/x-python",
   "name": "python",
   "nbconvert_exporter": "python",
   "pygments_lexer": "ipython3",
   "version": "3.11.9"
  }
 },
 "nbformat": 4,
 "nbformat_minor": 2
}
